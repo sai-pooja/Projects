{
 "cells": [
  {
   "cell_type": "code",
   "execution_count": 109,
   "metadata": {},
   "outputs": [],
   "source": [
    "# supress warnings \n",
    "from warnings import filterwarnings\n",
    "filterwarnings('ignore')\n",
    "\n",
    "# 'Os' module provides functions for interacting with the operating system \n",
    "import os\n",
    "\n",
    "# 'Pandas' is used for data manipulation and analysis\n",
    "import pandas as pd \n",
    "\n",
    "# 'Numpy' is used for mathematical operations on large, multi-dimensional arrays and matrices\n",
    "import numpy as np\n",
    "\n",
    "# 'Matplotlib' is a data visualization library for 2D and 3D plots, built on numpy\n",
    "import matplotlib.pyplot as plt\n",
    "%matplotlib inline\n",
    "\n",
    "# 'Seaborn' is based on matplotlib; used for plotting statistical graphics\n",
    "import seaborn as sns\n",
    "\n",
    "# 'Scikit-learn' (sklearn) emphasizes various regression, classification and clustering algorithms\n",
    "from sklearn.model_selection import train_test_split\n",
    "from sklearn.metrics import mean_squared_error, mean_absolute_error, r2_score\n",
    "from sklearn.linear_model import LinearRegression\n",
    "from sklearn import metrics\n",
    "from sklearn import preprocessing\n",
    "\n",
    "# import researchpy as rp\n",
    "\n",
    "# 'Statsmodels' is used to build and analyze various statistical models\n",
    "import statsmodels\n",
    "import statsmodels.api as sm\n",
    "import statsmodels.stats.api as sms\n",
    "import statsmodels.formula.api as smf\n",
    "import statsmodels.tsa.api as smt\n",
    "from statsmodels.tools.eval_measures import rmse\n",
    "from statsmodels.compat import lzip\n",
    "from statsmodels.formula.api import ols\n",
    "\n",
    "# 'SciPy' is used to perform scientific computations\n",
    "from scipy.stats import f_oneway\n",
    "from scipy.stats import jarque_bera\n",
    "from scipy import stats\n"
   ]
  },
  {
   "cell_type": "markdown",
   "metadata": {},
   "source": [
    "### Read data "
   ]
  },
  {
   "cell_type": "code",
   "execution_count": 2,
   "metadata": {},
   "outputs": [
    {
     "data": {
      "text/html": [
       "<div>\n",
       "<style scoped>\n",
       "    .dataframe tbody tr th:only-of-type {\n",
       "        vertical-align: middle;\n",
       "    }\n",
       "\n",
       "    .dataframe tbody tr th {\n",
       "        vertical-align: top;\n",
       "    }\n",
       "\n",
       "    .dataframe thead th {\n",
       "        text-align: right;\n",
       "    }\n",
       "</style>\n",
       "<table border=\"1\" class=\"dataframe\">\n",
       "  <thead>\n",
       "    <tr style=\"text-align: right;\">\n",
       "      <th></th>\n",
       "      <th>Year</th>\n",
       "      <th>S&amp;P Composite</th>\n",
       "      <th>Dividend</th>\n",
       "      <th>Earnings</th>\n",
       "      <th>CPI</th>\n",
       "      <th>Long Interest Rate</th>\n",
       "      <th>Real Price</th>\n",
       "      <th>Real Dividend</th>\n",
       "      <th>Real Earnings</th>\n",
       "      <th>Cyclically Adjusted PE Ratio</th>\n",
       "    </tr>\n",
       "  </thead>\n",
       "  <tbody>\n",
       "    <tr>\n",
       "      <th>0</th>\n",
       "      <td>2019-12-31</td>\n",
       "      <td>3223.380000</td>\n",
       "      <td>NaN</td>\n",
       "      <td>NaN</td>\n",
       "      <td>257.139</td>\n",
       "      <td>1.91</td>\n",
       "      <td>3223.380000</td>\n",
       "      <td>NaN</td>\n",
       "      <td>NaN</td>\n",
       "      <td>30.913600</td>\n",
       "    </tr>\n",
       "    <tr>\n",
       "      <th>1</th>\n",
       "      <td>2019-11-30</td>\n",
       "      <td>3104.904500</td>\n",
       "      <td>NaN</td>\n",
       "      <td>NaN</td>\n",
       "      <td>257.208</td>\n",
       "      <td>1.81</td>\n",
       "      <td>3104.071562</td>\n",
       "      <td>NaN</td>\n",
       "      <td>NaN</td>\n",
       "      <td>29.911395</td>\n",
       "    </tr>\n",
       "    <tr>\n",
       "      <th>2</th>\n",
       "      <td>2019-10-31</td>\n",
       "      <td>2977.680000</td>\n",
       "      <td>NaN</td>\n",
       "      <td>NaN</td>\n",
       "      <td>257.346</td>\n",
       "      <td>1.71</td>\n",
       "      <td>2975.284860</td>\n",
       "      <td>NaN</td>\n",
       "      <td>NaN</td>\n",
       "      <td>28.840889</td>\n",
       "    </tr>\n",
       "    <tr>\n",
       "      <th>3</th>\n",
       "      <td>2019-09-30</td>\n",
       "      <td>2982.156000</td>\n",
       "      <td>57.220000</td>\n",
       "      <td>132.950000</td>\n",
       "      <td>256.759</td>\n",
       "      <td>1.70</td>\n",
       "      <td>2986.569552</td>\n",
       "      <td>57.304685</td>\n",
       "      <td>133.146764</td>\n",
       "      <td>29.229401</td>\n",
       "    </tr>\n",
       "    <tr>\n",
       "      <th>4</th>\n",
       "      <td>2019-08-31</td>\n",
       "      <td>2897.498182</td>\n",
       "      <td>56.839092</td>\n",
       "      <td>133.723333</td>\n",
       "      <td>256.558</td>\n",
       "      <td>1.63</td>\n",
       "      <td>2904.059842</td>\n",
       "      <td>56.967809</td>\n",
       "      <td>134.026163</td>\n",
       "      <td>28.705358</td>\n",
       "    </tr>\n",
       "  </tbody>\n",
       "</table>\n",
       "</div>"
      ],
      "text/plain": [
       "         Year  S&P Composite   Dividend    Earnings      CPI  \\\n",
       "0  2019-12-31    3223.380000        NaN         NaN  257.139   \n",
       "1  2019-11-30    3104.904500        NaN         NaN  257.208   \n",
       "2  2019-10-31    2977.680000        NaN         NaN  257.346   \n",
       "3  2019-09-30    2982.156000  57.220000  132.950000  256.759   \n",
       "4  2019-08-31    2897.498182  56.839092  133.723333  256.558   \n",
       "\n",
       "   Long Interest Rate   Real Price  Real Dividend  Real Earnings  \\\n",
       "0                1.91  3223.380000            NaN            NaN   \n",
       "1                1.81  3104.071562            NaN            NaN   \n",
       "2                1.71  2975.284860            NaN            NaN   \n",
       "3                1.70  2986.569552      57.304685     133.146764   \n",
       "4                1.63  2904.059842      56.967809     134.026163   \n",
       "\n",
       "   Cyclically Adjusted PE Ratio  \n",
       "0                     30.913600  \n",
       "1                     29.911395  \n",
       "2                     28.840889  \n",
       "3                     29.229401  \n",
       "4                     28.705358  "
      ]
     },
     "execution_count": 2,
     "metadata": {},
     "output_type": "execute_result"
    }
   ],
   "source": [
    "df = pd.read_csv(r'C:\\Users\\SAI\\Desktop\\domain week\\YALE-SPCOMP.csv')\n",
    "df.head()"
   ]
  },
  {
   "cell_type": "code",
   "execution_count": null,
   "metadata": {},
   "outputs": [],
   "source": [
    "df.shape"
   ]
  },
  {
   "cell_type": "markdown",
   "metadata": {},
   "source": [
    "### Dropping unwanted columns"
   ]
  },
  {
   "cell_type": "code",
   "execution_count": 3,
   "metadata": {},
   "outputs": [
    {
     "data": {
      "text/html": [
       "<div>\n",
       "<style scoped>\n",
       "    .dataframe tbody tr th:only-of-type {\n",
       "        vertical-align: middle;\n",
       "    }\n",
       "\n",
       "    .dataframe tbody tr th {\n",
       "        vertical-align: top;\n",
       "    }\n",
       "\n",
       "    .dataframe thead th {\n",
       "        text-align: right;\n",
       "    }\n",
       "</style>\n",
       "<table border=\"1\" class=\"dataframe\">\n",
       "  <thead>\n",
       "    <tr style=\"text-align: right;\">\n",
       "      <th></th>\n",
       "      <th>S&amp;P Composite</th>\n",
       "      <th>Dividend</th>\n",
       "      <th>Earnings</th>\n",
       "      <th>CPI</th>\n",
       "      <th>Long Interest Rate</th>\n",
       "      <th>Real Price</th>\n",
       "      <th>Real Dividend</th>\n",
       "      <th>Real Earnings</th>\n",
       "      <th>Cyclically Adjusted PE Ratio</th>\n",
       "    </tr>\n",
       "  </thead>\n",
       "  <tbody>\n",
       "    <tr>\n",
       "      <th>0</th>\n",
       "      <td>3223.380000</td>\n",
       "      <td>NaN</td>\n",
       "      <td>NaN</td>\n",
       "      <td>257.139</td>\n",
       "      <td>1.91</td>\n",
       "      <td>3223.380000</td>\n",
       "      <td>NaN</td>\n",
       "      <td>NaN</td>\n",
       "      <td>30.913600</td>\n",
       "    </tr>\n",
       "    <tr>\n",
       "      <th>1</th>\n",
       "      <td>3104.904500</td>\n",
       "      <td>NaN</td>\n",
       "      <td>NaN</td>\n",
       "      <td>257.208</td>\n",
       "      <td>1.81</td>\n",
       "      <td>3104.071562</td>\n",
       "      <td>NaN</td>\n",
       "      <td>NaN</td>\n",
       "      <td>29.911395</td>\n",
       "    </tr>\n",
       "    <tr>\n",
       "      <th>2</th>\n",
       "      <td>2977.680000</td>\n",
       "      <td>NaN</td>\n",
       "      <td>NaN</td>\n",
       "      <td>257.346</td>\n",
       "      <td>1.71</td>\n",
       "      <td>2975.284860</td>\n",
       "      <td>NaN</td>\n",
       "      <td>NaN</td>\n",
       "      <td>28.840889</td>\n",
       "    </tr>\n",
       "    <tr>\n",
       "      <th>3</th>\n",
       "      <td>2982.156000</td>\n",
       "      <td>57.220000</td>\n",
       "      <td>132.950000</td>\n",
       "      <td>256.759</td>\n",
       "      <td>1.70</td>\n",
       "      <td>2986.569552</td>\n",
       "      <td>57.304685</td>\n",
       "      <td>133.146764</td>\n",
       "      <td>29.229401</td>\n",
       "    </tr>\n",
       "    <tr>\n",
       "      <th>4</th>\n",
       "      <td>2897.498182</td>\n",
       "      <td>56.839092</td>\n",
       "      <td>133.723333</td>\n",
       "      <td>256.558</td>\n",
       "      <td>1.63</td>\n",
       "      <td>2904.059842</td>\n",
       "      <td>56.967809</td>\n",
       "      <td>134.026163</td>\n",
       "      <td>28.705358</td>\n",
       "    </tr>\n",
       "  </tbody>\n",
       "</table>\n",
       "</div>"
      ],
      "text/plain": [
       "   S&P Composite   Dividend    Earnings      CPI  Long Interest Rate  \\\n",
       "0    3223.380000        NaN         NaN  257.139                1.91   \n",
       "1    3104.904500        NaN         NaN  257.208                1.81   \n",
       "2    2977.680000        NaN         NaN  257.346                1.71   \n",
       "3    2982.156000  57.220000  132.950000  256.759                1.70   \n",
       "4    2897.498182  56.839092  133.723333  256.558                1.63   \n",
       "\n",
       "    Real Price  Real Dividend  Real Earnings  Cyclically Adjusted PE Ratio  \n",
       "0  3223.380000            NaN            NaN                     30.913600  \n",
       "1  3104.071562            NaN            NaN                     29.911395  \n",
       "2  2975.284860            NaN            NaN                     28.840889  \n",
       "3  2986.569552      57.304685     133.146764                     29.229401  \n",
       "4  2904.059842      56.967809     134.026163                     28.705358  "
      ]
     },
     "execution_count": 3,
     "metadata": {},
     "output_type": "execute_result"
    }
   ],
   "source": [
    "df=df.drop(columns='Year',axis=1)\n",
    "df.head()"
   ]
  },
  {
   "cell_type": "code",
   "execution_count": null,
   "metadata": {},
   "outputs": [],
   "source": [
    "df.info()"
   ]
  },
  {
   "cell_type": "code",
   "execution_count": null,
   "metadata": {},
   "outputs": [],
   "source": [
    "df.describe()"
   ]
  },
  {
   "cell_type": "markdown",
   "metadata": {},
   "source": [
    "### missing values"
   ]
  },
  {
   "cell_type": "code",
   "execution_count": null,
   "metadata": {},
   "outputs": [],
   "source": [
    "df.isnull().sum()"
   ]
  },
  {
   "cell_type": "code",
   "execution_count": 4,
   "metadata": {},
   "outputs": [
    {
     "data": {
      "text/html": [
       "<div>\n",
       "<style scoped>\n",
       "    .dataframe tbody tr th:only-of-type {\n",
       "        vertical-align: middle;\n",
       "    }\n",
       "\n",
       "    .dataframe tbody tr th {\n",
       "        vertical-align: top;\n",
       "    }\n",
       "\n",
       "    .dataframe thead th {\n",
       "        text-align: right;\n",
       "    }\n",
       "</style>\n",
       "<table border=\"1\" class=\"dataframe\">\n",
       "  <thead>\n",
       "    <tr style=\"text-align: right;\">\n",
       "      <th></th>\n",
       "      <th>S&amp;P Composite</th>\n",
       "      <th>Dividend</th>\n",
       "      <th>Earnings</th>\n",
       "      <th>CPI</th>\n",
       "      <th>Long Interest Rate</th>\n",
       "      <th>Real Price</th>\n",
       "      <th>Real Dividend</th>\n",
       "      <th>Real Earnings</th>\n",
       "      <th>Cyclically Adjusted PE Ratio</th>\n",
       "    </tr>\n",
       "  </thead>\n",
       "  <tbody>\n",
       "    <tr>\n",
       "      <th>0</th>\n",
       "      <td>2982.156000</td>\n",
       "      <td>57.220000</td>\n",
       "      <td>132.950000</td>\n",
       "      <td>256.759</td>\n",
       "      <td>1.70</td>\n",
       "      <td>2986.569552</td>\n",
       "      <td>57.304685</td>\n",
       "      <td>133.146764</td>\n",
       "      <td>29.229401</td>\n",
       "    </tr>\n",
       "    <tr>\n",
       "      <th>1</th>\n",
       "      <td>2897.498182</td>\n",
       "      <td>56.839092</td>\n",
       "      <td>133.723333</td>\n",
       "      <td>256.558</td>\n",
       "      <td>1.63</td>\n",
       "      <td>2904.059842</td>\n",
       "      <td>56.967809</td>\n",
       "      <td>134.026163</td>\n",
       "      <td>28.705358</td>\n",
       "    </tr>\n",
       "    <tr>\n",
       "      <th>2</th>\n",
       "      <td>2996.113636</td>\n",
       "      <td>56.458183</td>\n",
       "      <td>134.496667</td>\n",
       "      <td>256.571</td>\n",
       "      <td>1.63</td>\n",
       "      <td>3002.746469</td>\n",
       "      <td>56.583171</td>\n",
       "      <td>134.794417</td>\n",
       "      <td>29.986685</td>\n",
       "    </tr>\n",
       "    <tr>\n",
       "      <th>3</th>\n",
       "      <td>2890.170000</td>\n",
       "      <td>56.077275</td>\n",
       "      <td>135.270000</td>\n",
       "      <td>256.143</td>\n",
       "      <td>2.06</td>\n",
       "      <td>2901.408290</td>\n",
       "      <td>56.295329</td>\n",
       "      <td>135.795991</td>\n",
       "      <td>29.283796</td>\n",
       "    </tr>\n",
       "    <tr>\n",
       "      <th>4</th>\n",
       "      <td>2854.710000</td>\n",
       "      <td>55.698183</td>\n",
       "      <td>134.976667</td>\n",
       "      <td>256.092</td>\n",
       "      <td>2.40</td>\n",
       "      <td>2866.381124</td>\n",
       "      <td>55.925898</td>\n",
       "      <td>135.528502</td>\n",
       "      <td>29.242031</td>\n",
       "    </tr>\n",
       "  </tbody>\n",
       "</table>\n",
       "</div>"
      ],
      "text/plain": [
       "   S&P Composite   Dividend    Earnings      CPI  Long Interest Rate  \\\n",
       "0    2982.156000  57.220000  132.950000  256.759                1.70   \n",
       "1    2897.498182  56.839092  133.723333  256.558                1.63   \n",
       "2    2996.113636  56.458183  134.496667  256.571                1.63   \n",
       "3    2890.170000  56.077275  135.270000  256.143                2.06   \n",
       "4    2854.710000  55.698183  134.976667  256.092                2.40   \n",
       "\n",
       "    Real Price  Real Dividend  Real Earnings  Cyclically Adjusted PE Ratio  \n",
       "0  2986.569552      57.304685     133.146764                     29.229401  \n",
       "1  2904.059842      56.967809     134.026163                     28.705358  \n",
       "2  3002.746469      56.583171     134.794417                     29.986685  \n",
       "3  2901.408290      56.295329     135.795991                     29.283796  \n",
       "4  2866.381124      55.925898     135.528502                     29.242031  "
      ]
     },
     "execution_count": 4,
     "metadata": {},
     "output_type": "execute_result"
    }
   ],
   "source": [
    "df=df.dropna(axis=0).reset_index(drop=True)\n",
    "df.head()"
   ]
  },
  {
   "cell_type": "code",
   "execution_count": null,
   "metadata": {},
   "outputs": [],
   "source": [
    "df.shape"
   ]
  },
  {
   "cell_type": "code",
   "execution_count": null,
   "metadata": {},
   "outputs": [],
   "source": [
    "df.isnull().sum()"
   ]
  },
  {
   "cell_type": "markdown",
   "metadata": {},
   "source": [
    "### EDA"
   ]
  },
  {
   "cell_type": "code",
   "execution_count": 5,
   "metadata": {},
   "outputs": [
    {
     "data": {
      "text/plain": [
       "<matplotlib.axes._subplots.AxesSubplot at 0x13797efcda0>"
      ]
     },
     "execution_count": 5,
     "metadata": {},
     "output_type": "execute_result"
    },
    {
     "data": {
      "image/png": "[encoded data removed]",
      "text/plain": [
       "<Figure size 1440x360 with 2 Axes>"
      ]
     },
     "metadata": {
      "needs_background": "light"
     },
     "output_type": "display_data"
    }
   ],
   "source": [
    "plt.subplots(figsize=(20,5))\n",
    "cor= df.corr()\n",
    "sns.heatmap(cor,annot=True)"
   ]
  },
  {
   "cell_type": "code",
   "execution_count": 27,
   "metadata": {},
   "outputs": [
    {
     "data": {
      "image/png": "[encoded data removed]",
      "text/plain": [
       "<Figure size 432x288 with 9 Axes>"
      ]
     },
     "metadata": {
      "needs_background": "light"
     },
     "output_type": "display_data"
    }
   ],
   "source": [
    "df.hist()\n",
    "plt.show()"
   ]
  },
  {
   "cell_type": "code",
   "execution_count": 20,
   "metadata": {},
   "outputs": [
    {
     "data": {
      "text/plain": [
       "<matplotlib.axes._subplots.AxesSubplot at 0x13798feb128>"
      ]
     },
     "execution_count": 20,
     "metadata": {},
     "output_type": "execute_result"
    },
    {
     "data": {
      "image/png": "[encoded data removed]",
      "text/plain": [
       "<Figure size 432x288 with 1 Axes>"
      ]
     },
     "metadata": {
      "needs_background": "light"
     },
     "output_type": "display_data"
    }
   ],
   "source": [
    "df.boxplot()"
   ]
  },
  {
   "cell_type": "markdown",
   "metadata": {},
   "source": [
    "### log "
   ]
  },
  {
   "cell_type": "code",
   "execution_count": 22,
   "metadata": {},
   "outputs": [
    {
     "data": {
      "text/html": [
       "<div>\n",
       "<style scoped>\n",
       "    .dataframe tbody tr th:only-of-type {\n",
       "        vertical-align: middle;\n",
       "    }\n",
       "\n",
       "    .dataframe tbody tr th {\n",
       "        vertical-align: top;\n",
       "    }\n",
       "\n",
       "    .dataframe thead th {\n",
       "        text-align: right;\n",
       "    }\n",
       "</style>\n",
       "<table border=\"1\" class=\"dataframe\">\n",
       "  <thead>\n",
       "    <tr style=\"text-align: right;\">\n",
       "      <th></th>\n",
       "      <th>S&amp;P Composite</th>\n",
       "      <th>Dividend</th>\n",
       "      <th>Earnings</th>\n",
       "      <th>CPI</th>\n",
       "      <th>Long Interest Rate</th>\n",
       "      <th>Real Price</th>\n",
       "      <th>Real Dividend</th>\n",
       "      <th>Real Earnings</th>\n",
       "      <th>Cyclically Adjusted PE Ratio</th>\n",
       "    </tr>\n",
       "  </thead>\n",
       "  <tbody>\n",
       "    <tr>\n",
       "      <th>0</th>\n",
       "      <td>8.000402</td>\n",
       "      <td>4.046903</td>\n",
       "      <td>4.889973</td>\n",
       "      <td>5.548138</td>\n",
       "      <td>0.530628</td>\n",
       "      <td>8.001881</td>\n",
       "      <td>4.048382</td>\n",
       "      <td>4.891452</td>\n",
       "      <td>3.375175</td>\n",
       "    </tr>\n",
       "    <tr>\n",
       "      <th>1</th>\n",
       "      <td>7.971603</td>\n",
       "      <td>4.040224</td>\n",
       "      <td>4.895773</td>\n",
       "      <td>5.547355</td>\n",
       "      <td>0.488580</td>\n",
       "      <td>7.973865</td>\n",
       "      <td>4.042486</td>\n",
       "      <td>4.898035</td>\n",
       "      <td>3.357084</td>\n",
       "    </tr>\n",
       "    <tr>\n",
       "      <th>2</th>\n",
       "      <td>8.005071</td>\n",
       "      <td>4.033500</td>\n",
       "      <td>4.901539</td>\n",
       "      <td>5.547405</td>\n",
       "      <td>0.488580</td>\n",
       "      <td>8.007283</td>\n",
       "      <td>4.035712</td>\n",
       "      <td>4.903751</td>\n",
       "      <td>3.400753</td>\n",
       "    </tr>\n",
       "    <tr>\n",
       "      <th>3</th>\n",
       "      <td>7.969071</td>\n",
       "      <td>4.026731</td>\n",
       "      <td>4.907273</td>\n",
       "      <td>5.545736</td>\n",
       "      <td>0.722706</td>\n",
       "      <td>7.972952</td>\n",
       "      <td>4.030612</td>\n",
       "      <td>4.911154</td>\n",
       "      <td>3.377034</td>\n",
       "    </tr>\n",
       "    <tr>\n",
       "      <th>4</th>\n",
       "      <td>7.956726</td>\n",
       "      <td>4.019948</td>\n",
       "      <td>4.905102</td>\n",
       "      <td>5.545537</td>\n",
       "      <td>0.875469</td>\n",
       "      <td>7.960806</td>\n",
       "      <td>4.024028</td>\n",
       "      <td>4.909182</td>\n",
       "      <td>3.375607</td>\n",
       "    </tr>\n",
       "  </tbody>\n",
       "</table>\n",
       "</div>"
      ],
      "text/plain": [
       "   S&P Composite  Dividend  Earnings       CPI  Long Interest Rate  \\\n",
       "0       8.000402  4.046903  4.889973  5.548138            0.530628   \n",
       "1       7.971603  4.040224  4.895773  5.547355            0.488580   \n",
       "2       8.005071  4.033500  4.901539  5.547405            0.488580   \n",
       "3       7.969071  4.026731  4.907273  5.545736            0.722706   \n",
       "4       7.956726  4.019948  4.905102  5.545537            0.875469   \n",
       "\n",
       "   Real Price  Real Dividend  Real Earnings  Cyclically Adjusted PE Ratio  \n",
       "0    8.001881       4.048382       4.891452                      3.375175  \n",
       "1    7.973865       4.042486       4.898035                      3.357084  \n",
       "2    8.007283       4.035712       4.903751                      3.400753  \n",
       "3    7.972952       4.030612       4.911154                      3.377034  \n",
       "4    7.960806       4.024028       4.909182                      3.375607  "
      ]
     },
     "execution_count": 22,
     "metadata": {},
     "output_type": "execute_result"
    }
   ],
   "source": [
    "df_transform=df.apply(lambda x : np.log(x))\n",
    "df_transform.head()"
   ]
  },
  {
   "cell_type": "code",
   "execution_count": 23,
   "metadata": {},
   "outputs": [
    {
     "data": {
      "text/plain": [
       "<matplotlib.axes._subplots.AxesSubplot at 0x137991190f0>"
      ]
     },
     "execution_count": 23,
     "metadata": {},
     "output_type": "execute_result"
    },
    {
     "data": {
      "image/png": "[encoded data removed]",
      "text/plain": [
       "<Figure size 432x288 with 1 Axes>"
      ]
     },
     "metadata": {
      "needs_background": "light"
     },
     "output_type": "display_data"
    }
   ],
   "source": [
    "df_transform.boxplot()"
   ]
  },
  {
   "cell_type": "code",
   "execution_count": 26,
   "metadata": {},
   "outputs": [
    {
     "data": {
      "image/png": "[encoded data removed]",
      "text/plain": [
       "<Figure size 432x288 with 9 Axes>"
      ]
     },
     "metadata": {
      "needs_background": "light"
     },
     "output_type": "display_data"
    }
   ],
   "source": [
    "df_transform.hist()\n",
    "plt.show()"
   ]
  },
  {
   "cell_type": "code",
   "execution_count": 42,
   "metadata": {},
   "outputs": [],
   "source": [
    "from sklearn.preprocessing import StandardScaler\n",
    "sc = preprocessing.StandardScaler()\n",
    "x_train_scaled = sc.fit_transform(x_train)\n",
    "x_test_scaled = sc.transform(x_test)"
   ]
  },
  {
   "cell_type": "markdown",
   "metadata": {},
   "source": [
    "### splitting data "
   ]
  },
  {
   "cell_type": "code",
   "execution_count": 64,
   "metadata": {},
   "outputs": [
    {
     "name": "stdout",
     "output_type": "stream",
     "text": [
      "(1165, 8)\n",
      "(500, 8)\n",
      "(500,)\n"
     ]
    }
   ],
   "source": [
    "x=df.drop(columns='S&P Composite',axis=1)\n",
    "y=df['S&P Composite']\n",
    "x_train,x_test,y_train,y_test=train_test_split(x,y,test_size=0.30,random_state=2)\n",
    "print(x_train.shape)\n",
    "print(x_test.shape)\n",
    "print(y_test.shape)"
   ]
  },
  {
   "cell_type": "markdown",
   "metadata": {},
   "source": [
    "### BASE Model"
   ]
  },
  {
   "cell_type": "code",
   "execution_count": 63,
   "metadata": {},
   "outputs": [
    {
     "data": {
      "text/html": [
       "<table class=\"simpletable\">\n",
       "<caption>OLS Regression Results</caption>\n",
       "<tr>\n",
       "  <th>Dep. Variable:</th>      <td>S&P Composite</td>  <th>  R-squared:         </th> <td>   0.997</td> \n",
       "</tr>\n",
       "<tr>\n",
       "  <th>Model:</th>                   <td>OLS</td>       <th>  Adj. R-squared:    </th> <td>   0.997</td> \n",
       "</tr>\n",
       "<tr>\n",
       "  <th>Method:</th>             <td>Least Squares</td>  <th>  F-statistic:       </th> <td>5.350e+04</td>\n",
       "</tr>\n",
       "<tr>\n",
       "  <th>Date:</th>             <td>Wed, 22 Jan 2020</td> <th>  Prob (F-statistic):</th>  <td>  0.00</td>  \n",
       "</tr>\n",
       "<tr>\n",
       "  <th>Time:</th>                 <td>21:51:28</td>     <th>  Log-Likelihood:    </th> <td> -5629.4</td> \n",
       "</tr>\n",
       "<tr>\n",
       "  <th>No. Observations:</th>      <td>  1165</td>      <th>  AIC:               </th> <td>1.128e+04</td>\n",
       "</tr>\n",
       "<tr>\n",
       "  <th>Df Residuals:</th>          <td>  1156</td>      <th>  BIC:               </th> <td>1.132e+04</td>\n",
       "</tr>\n",
       "<tr>\n",
       "  <th>Df Model:</th>              <td>     8</td>      <th>                     </th>     <td> </td>    \n",
       "</tr>\n",
       "<tr>\n",
       "  <th>Covariance Type:</th>      <td>nonrobust</td>    <th>                     </th>     <td> </td>    \n",
       "</tr>\n",
       "</table>\n",
       "<table class=\"simpletable\">\n",
       "<tr>\n",
       "                <td></td>                  <th>coef</th>     <th>std err</th>      <th>t</th>      <th>P>|t|</th>  <th>[0.025</th>    <th>0.975]</th>  \n",
       "</tr>\n",
       "<tr>\n",
       "  <th>const</th>                        <td>  158.1971</td> <td>    5.454</td> <td>   29.008</td> <td> 0.000</td> <td>  147.497</td> <td>  168.897</td>\n",
       "</tr>\n",
       "<tr>\n",
       "  <th>Dividend</th>                     <td>   32.1166</td> <td>    0.884</td> <td>   36.325</td> <td> 0.000</td> <td>   30.382</td> <td>   33.851</td>\n",
       "</tr>\n",
       "<tr>\n",
       "  <th>Earnings</th>                     <td>    4.2266</td> <td>    0.353</td> <td>   11.989</td> <td> 0.000</td> <td>    3.535</td> <td>    4.918</td>\n",
       "</tr>\n",
       "<tr>\n",
       "  <th>CPI</th>                          <td>   -0.9951</td> <td>    0.045</td> <td>  -22.362</td> <td> 0.000</td> <td>   -1.082</td> <td>   -0.908</td>\n",
       "</tr>\n",
       "<tr>\n",
       "  <th>Long Interest Rate</th>           <td>   -3.2374</td> <td>    0.557</td> <td>   -5.815</td> <td> 0.000</td> <td>   -4.330</td> <td>   -2.145</td>\n",
       "</tr>\n",
       "<tr>\n",
       "  <th>Real Price</th>                   <td>    0.6999</td> <td>    0.009</td> <td>   77.354</td> <td> 0.000</td> <td>    0.682</td> <td>    0.718</td>\n",
       "</tr>\n",
       "<tr>\n",
       "  <th>Real Dividend</th>                <td>  -17.2446</td> <td>    0.621</td> <td>  -27.756</td> <td> 0.000</td> <td>  -18.464</td> <td>  -16.026</td>\n",
       "</tr>\n",
       "<tr>\n",
       "  <th>Real Earnings</th>                <td>   -1.9934</td> <td>    0.268</td> <td>   -7.436</td> <td> 0.000</td> <td>   -2.519</td> <td>   -1.467</td>\n",
       "</tr>\n",
       "<tr>\n",
       "  <th>Cyclically Adjusted PE Ratio</th> <td>   -5.9942</td> <td>    0.308</td> <td>  -19.477</td> <td> 0.000</td> <td>   -6.598</td> <td>   -5.390</td>\n",
       "</tr>\n",
       "</table>\n",
       "<table class=\"simpletable\">\n",
       "<tr>\n",
       "  <th>Omnibus:</th>       <td> 7.452</td> <th>  Durbin-Watson:     </th> <td>   1.986</td>\n",
       "</tr>\n",
       "<tr>\n",
       "  <th>Prob(Omnibus):</th> <td> 0.024</td> <th>  Jarque-Bera (JB):  </th> <td>   7.228</td>\n",
       "</tr>\n",
       "<tr>\n",
       "  <th>Skew:</th>          <td> 0.163</td> <th>  Prob(JB):          </th> <td>  0.0269</td>\n",
       "</tr>\n",
       "<tr>\n",
       "  <th>Kurtosis:</th>      <td> 2.792</td> <th>  Cond. No.          </th> <td>5.21e+03</td>\n",
       "</tr>\n",
       "</table><br/><br/>Warnings:<br/>[1] Standard Errors assume that the covariance matrix of the errors is correctly specified.<br/>[2] The condition number is large, 5.21e+03. This might indicate that there are<br/>strong multicollinearity or other numerical problems."
      ],
      "text/plain": [
       "<class 'statsmodels.iolib.summary.Summary'>\n",
       "\"\"\"\n",
       "                            OLS Regression Results                            \n",
       "==============================================================================\n",
       "Dep. Variable:          S&P Composite   R-squared:                       0.997\n",
       "Model:                            OLS   Adj. R-squared:                  0.997\n",
       "Method:                 Least Squares   F-statistic:                 5.350e+04\n",
       "Date:                Wed, 22 Jan 2020   Prob (F-statistic):               0.00\n",
       "Time:                        21:51:28   Log-Likelihood:                -5629.4\n",
       "No. Observations:                1165   AIC:                         1.128e+04\n",
       "Df Residuals:                    1156   BIC:                         1.132e+04\n",
       "Df Model:                           8                                         \n",
       "Covariance Type:            nonrobust                                         \n",
       "================================================================================================\n",
       "                                   coef    std err          t      P>|t|      [0.025      0.975]\n",
       "------------------------------------------------------------------------------------------------\n",
       "const                          158.1971      5.454     29.008      0.000     147.497     168.897\n",
       "Dividend                        32.1166      0.884     36.325      0.000      30.382      33.851\n",
       "Earnings                         4.2266      0.353     11.989      0.000       3.535       4.918\n",
       "CPI                             -0.9951      0.045    -22.362      0.000      -1.082      -0.908\n",
       "Long Interest Rate              -3.2374      0.557     -5.815      0.000      -4.330      -2.145\n",
       "Real Price                       0.6999      0.009     77.354      0.000       0.682       0.718\n",
       "Real Dividend                  -17.2446      0.621    -27.756      0.000     -18.464     -16.026\n",
       "Real Earnings                   -1.9934      0.268     -7.436      0.000      -2.519      -1.467\n",
       "Cyclically Adjusted PE Ratio    -5.9942      0.308    -19.477      0.000      -6.598      -5.390\n",
       "==============================================================================\n",
       "Omnibus:                        7.452   Durbin-Watson:                   1.986\n",
       "Prob(Omnibus):                  0.024   Jarque-Bera (JB):                7.228\n",
       "Skew:                           0.163   Prob(JB):                       0.0269\n",
       "Kurtosis:                       2.792   Cond. No.                     5.21e+03\n",
       "==============================================================================\n",
       "\n",
       "Warnings:\n",
       "[1] Standard Errors assume that the covariance matrix of the errors is correctly specified.\n",
       "[2] The condition number is large, 5.21e+03. This might indicate that there are\n",
       "strong multicollinearity or other numerical problems.\n",
       "\"\"\""
      ]
     },
     "execution_count": 63,
     "metadata": {},
     "output_type": "execute_result"
    }
   ],
   "source": [
    "bm= sm.OLS(y_train, sm.add_constant(x_train)).fit()\n",
    "bm.summary()"
   ]
  },
  {
   "cell_type": "code",
   "execution_count": 68,
   "metadata": {},
   "outputs": [
    {
     "name": "stdout",
     "output_type": "stream",
     "text": [
      "R^2 score for train: 0.997306348401034\n",
      "R^2 score for test: 0.9973592699003655\n"
     ]
    }
   ],
   "source": [
    "lr = LinearRegression()\n",
    "lr = lr.fit(x_train,y_train)\n",
    "print(f'R^2 score for train: {lr.score(x_train, y_train)}')\n",
    "print(f'R^2 score for test: {lr.score(x_test, y_test)}')"
   ]
  },
  {
   "cell_type": "markdown",
   "metadata": {},
   "source": [
    "### Assumptions "
   ]
  },
  {
   "cell_type": "markdown",
   "metadata": {},
   "source": [
    "#### normality of residuals "
   ]
  },
  {
   "cell_type": "code",
   "execution_count": 54,
   "metadata": {},
   "outputs": [
    {
     "name": "stdout",
     "output_type": "stream",
     "text": [
      "Statistics=751.671, p-value=0.000\n"
     ]
    }
   ],
   "source": [
    "stat, p = jarque_bera(bm.resid)\n",
    "\n",
    "print('Statistics=%.3f, p-value=%.3f' % (stat, p))"
   ]
  },
  {
   "cell_type": "markdown",
   "metadata": {},
   "source": [
    "the rsiduals are not normally distributed "
   ]
  },
  {
   "cell_type": "markdown",
   "metadata": {},
   "source": [
    "#### multicollinearity"
   ]
  },
  {
   "cell_type": "code",
   "execution_count": 62,
   "metadata": {},
   "outputs": [
    {
     "data": {
      "text/html": [
       "<div>\n",
       "<style scoped>\n",
       "    .dataframe tbody tr th:only-of-type {\n",
       "        vertical-align: middle;\n",
       "    }\n",
       "\n",
       "    .dataframe tbody tr th {\n",
       "        vertical-align: top;\n",
       "    }\n",
       "\n",
       "    .dataframe thead th {\n",
       "        text-align: right;\n",
       "    }\n",
       "</style>\n",
       "<table border=\"1\" class=\"dataframe\">\n",
       "  <thead>\n",
       "    <tr style=\"text-align: right;\">\n",
       "      <th></th>\n",
       "      <th>Dividend</th>\n",
       "      <th>Earnings</th>\n",
       "      <th>CPI</th>\n",
       "      <th>Long Interest Rate</th>\n",
       "      <th>Real Price</th>\n",
       "      <th>Real Dividend</th>\n",
       "      <th>Real Earnings</th>\n",
       "      <th>Cyclically Adjusted PE Ratio</th>\n",
       "    </tr>\n",
       "  </thead>\n",
       "  <tbody>\n",
       "    <tr>\n",
       "      <th>vif</th>\n",
       "      <td>158.235164</td>\n",
       "      <td>148.364842</td>\n",
       "      <td>23.711969</td>\n",
       "      <td>9.274308</td>\n",
       "      <td>49.294018</td>\n",
       "      <td>136.093204</td>\n",
       "      <td>168.109358</td>\n",
       "      <td>19.687341</td>\n",
       "    </tr>\n",
       "  </tbody>\n",
       "</table>\n",
       "</div>"
      ],
      "text/plain": [
       "       Dividend    Earnings        CPI  Long Interest Rate  Real Price  \\\n",
       "vif  158.235164  148.364842  23.711969            9.274308   49.294018   \n",
       "\n",
       "     Real Dividend  Real Earnings  Cyclically Adjusted PE Ratio  \n",
       "vif     136.093204     168.109358                     19.687341  "
      ]
     },
     "execution_count": 62,
     "metadata": {},
     "output_type": "execute_result"
    }
   ],
   "source": [
    "from statsmodels.stats.outliers_influence import variance_inflation_factor\n",
    "\n",
    "vif = [variance_inflation_factor(x.values, i) for i in range(x.shape[1])]\n",
    "pd.DataFrame({'vif': vif[0:]}, index=x.columns).T"
   ]
  },
  {
   "cell_type": "markdown",
   "metadata": {},
   "source": [
    "#### linearity of residuals"
   ]
  },
  {
   "cell_type": "code",
   "execution_count": 59,
   "metadata": {},
   "outputs": [
    {
     "data": {
      "text/plain": [
       "(0.9214276618299353, 0.8373025808123741)"
      ]
     },
     "execution_count": 59,
     "metadata": {},
     "output_type": "execute_result"
    }
   ],
   "source": [
    "import statsmodels.api as sm\n",
    "sm.stats.diagnostic.linear_rainbow(res=bm, frac=0.5)"
   ]
  },
  {
   "cell_type": "markdown",
   "metadata": {},
   "source": [
    "The residuals are linear "
   ]
  },
  {
   "cell_type": "markdown",
   "metadata": {},
   "source": [
    "#### homoscedaticity "
   ]
  },
  {
   "cell_type": "code",
   "execution_count": 60,
   "metadata": {},
   "outputs": [
    {
     "data": {
      "text/plain": [
       "[('F statistic', 0.7807196550602211), ('p-value', 0.9984559315280034)]"
      ]
     },
     "execution_count": 60,
     "metadata": {},
     "output_type": "execute_result"
    }
   ],
   "source": [
    "name = ['F statistic', 'p-value']\n",
    "test = sms.het_goldfeldquandt(bm.resid, bm.model.exog)\n",
    "lzip(name, test)"
   ]
  },
  {
   "cell_type": "markdown",
   "metadata": {},
   "source": [
    "the residuals are homoscedastic "
   ]
  },
  {
   "cell_type": "markdown",
   "metadata": {},
   "source": [
    "### Reducing multicollinearity "
   ]
  },
  {
   "cell_type": "code",
   "execution_count": 69,
   "metadata": {},
   "outputs": [
    {
     "data": {
      "text/html": [
       "<div>\n",
       "<style scoped>\n",
       "    .dataframe tbody tr th:only-of-type {\n",
       "        vertical-align: middle;\n",
       "    }\n",
       "\n",
       "    .dataframe tbody tr th {\n",
       "        vertical-align: top;\n",
       "    }\n",
       "\n",
       "    .dataframe thead th {\n",
       "        text-align: right;\n",
       "    }\n",
       "</style>\n",
       "<table border=\"1\" class=\"dataframe\">\n",
       "  <thead>\n",
       "    <tr style=\"text-align: right;\">\n",
       "      <th></th>\n",
       "      <th>S&amp;P Composite</th>\n",
       "      <th>Dividend</th>\n",
       "      <th>Earnings</th>\n",
       "      <th>CPI</th>\n",
       "      <th>Long Interest Rate</th>\n",
       "      <th>Real Price</th>\n",
       "      <th>Real Dividend</th>\n",
       "      <th>Real Earnings</th>\n",
       "      <th>Cyclically Adjusted PE Ratio</th>\n",
       "    </tr>\n",
       "  </thead>\n",
       "  <tbody>\n",
       "    <tr>\n",
       "      <th>0</th>\n",
       "      <td>2982.156000</td>\n",
       "      <td>57.220000</td>\n",
       "      <td>132.950000</td>\n",
       "      <td>256.759</td>\n",
       "      <td>1.70</td>\n",
       "      <td>2986.569552</td>\n",
       "      <td>57.304685</td>\n",
       "      <td>133.146764</td>\n",
       "      <td>29.229401</td>\n",
       "    </tr>\n",
       "    <tr>\n",
       "      <th>1</th>\n",
       "      <td>2897.498182</td>\n",
       "      <td>56.839092</td>\n",
       "      <td>133.723333</td>\n",
       "      <td>256.558</td>\n",
       "      <td>1.63</td>\n",
       "      <td>2904.059842</td>\n",
       "      <td>56.967809</td>\n",
       "      <td>134.026163</td>\n",
       "      <td>28.705358</td>\n",
       "    </tr>\n",
       "    <tr>\n",
       "      <th>2</th>\n",
       "      <td>2996.113636</td>\n",
       "      <td>56.458183</td>\n",
       "      <td>134.496667</td>\n",
       "      <td>256.571</td>\n",
       "      <td>1.63</td>\n",
       "      <td>3002.746469</td>\n",
       "      <td>56.583171</td>\n",
       "      <td>134.794417</td>\n",
       "      <td>29.986685</td>\n",
       "    </tr>\n",
       "    <tr>\n",
       "      <th>3</th>\n",
       "      <td>2890.170000</td>\n",
       "      <td>56.077275</td>\n",
       "      <td>135.270000</td>\n",
       "      <td>256.143</td>\n",
       "      <td>2.06</td>\n",
       "      <td>2901.408290</td>\n",
       "      <td>56.295329</td>\n",
       "      <td>135.795991</td>\n",
       "      <td>29.283796</td>\n",
       "    </tr>\n",
       "    <tr>\n",
       "      <th>4</th>\n",
       "      <td>2854.710000</td>\n",
       "      <td>55.698183</td>\n",
       "      <td>134.976667</td>\n",
       "      <td>256.092</td>\n",
       "      <td>2.40</td>\n",
       "      <td>2866.381124</td>\n",
       "      <td>55.925898</td>\n",
       "      <td>135.528502</td>\n",
       "      <td>29.242031</td>\n",
       "    </tr>\n",
       "  </tbody>\n",
       "</table>\n",
       "</div>"
      ],
      "text/plain": [
       "   S&P Composite   Dividend    Earnings      CPI  Long Interest Rate  \\\n",
       "0    2982.156000  57.220000  132.950000  256.759                1.70   \n",
       "1    2897.498182  56.839092  133.723333  256.558                1.63   \n",
       "2    2996.113636  56.458183  134.496667  256.571                1.63   \n",
       "3    2890.170000  56.077275  135.270000  256.143                2.06   \n",
       "4    2854.710000  55.698183  134.976667  256.092                2.40   \n",
       "\n",
       "    Real Price  Real Dividend  Real Earnings  Cyclically Adjusted PE Ratio  \n",
       "0  2986.569552      57.304685     133.146764                     29.229401  \n",
       "1  2904.059842      56.967809     134.026163                     28.705358  \n",
       "2  3002.746469      56.583171     134.794417                     29.986685  \n",
       "3  2901.408290      56.295329     135.795991                     29.283796  \n",
       "4  2866.381124      55.925898     135.528502                     29.242031  "
      ]
     },
     "execution_count": 69,
     "metadata": {},
     "output_type": "execute_result"
    }
   ],
   "source": [
    "df.head()"
   ]
  },
  {
   "cell_type": "code",
   "execution_count": 70,
   "metadata": {},
   "outputs": [
    {
     "data": {
      "text/html": [
       "<div>\n",
       "<style scoped>\n",
       "    .dataframe tbody tr th:only-of-type {\n",
       "        vertical-align: middle;\n",
       "    }\n",
       "\n",
       "    .dataframe tbody tr th {\n",
       "        vertical-align: top;\n",
       "    }\n",
       "\n",
       "    .dataframe thead th {\n",
       "        text-align: right;\n",
       "    }\n",
       "</style>\n",
       "<table border=\"1\" class=\"dataframe\">\n",
       "  <thead>\n",
       "    <tr style=\"text-align: right;\">\n",
       "      <th></th>\n",
       "      <th>S&amp;P Composite</th>\n",
       "      <th>Dividend</th>\n",
       "      <th>Earnings</th>\n",
       "      <th>CPI</th>\n",
       "      <th>Long Interest Rate</th>\n",
       "      <th>Real Price</th>\n",
       "      <th>Real Dividend</th>\n",
       "      <th>Real Earnings</th>\n",
       "      <th>Cyclically Adjusted PE Ratio</th>\n",
       "      <th>Dividend/Earnings</th>\n",
       "    </tr>\n",
       "  </thead>\n",
       "  <tbody>\n",
       "    <tr>\n",
       "      <th>0</th>\n",
       "      <td>2982.156000</td>\n",
       "      <td>57.220000</td>\n",
       "      <td>132.950000</td>\n",
       "      <td>256.759</td>\n",
       "      <td>1.70</td>\n",
       "      <td>2986.569552</td>\n",
       "      <td>57.304685</td>\n",
       "      <td>133.146764</td>\n",
       "      <td>29.229401</td>\n",
       "      <td>0.430387</td>\n",
       "    </tr>\n",
       "    <tr>\n",
       "      <th>1</th>\n",
       "      <td>2897.498182</td>\n",
       "      <td>56.839092</td>\n",
       "      <td>133.723333</td>\n",
       "      <td>256.558</td>\n",
       "      <td>1.63</td>\n",
       "      <td>2904.059842</td>\n",
       "      <td>56.967809</td>\n",
       "      <td>134.026163</td>\n",
       "      <td>28.705358</td>\n",
       "      <td>0.425050</td>\n",
       "    </tr>\n",
       "    <tr>\n",
       "      <th>2</th>\n",
       "      <td>2996.113636</td>\n",
       "      <td>56.458183</td>\n",
       "      <td>134.496667</td>\n",
       "      <td>256.571</td>\n",
       "      <td>1.63</td>\n",
       "      <td>3002.746469</td>\n",
       "      <td>56.583171</td>\n",
       "      <td>134.794417</td>\n",
       "      <td>29.986685</td>\n",
       "      <td>0.419774</td>\n",
       "    </tr>\n",
       "    <tr>\n",
       "      <th>3</th>\n",
       "      <td>2890.170000</td>\n",
       "      <td>56.077275</td>\n",
       "      <td>135.270000</td>\n",
       "      <td>256.143</td>\n",
       "      <td>2.06</td>\n",
       "      <td>2901.408290</td>\n",
       "      <td>56.295329</td>\n",
       "      <td>135.795991</td>\n",
       "      <td>29.283796</td>\n",
       "      <td>0.414558</td>\n",
       "    </tr>\n",
       "    <tr>\n",
       "      <th>4</th>\n",
       "      <td>2854.710000</td>\n",
       "      <td>55.698183</td>\n",
       "      <td>134.976667</td>\n",
       "      <td>256.092</td>\n",
       "      <td>2.40</td>\n",
       "      <td>2866.381124</td>\n",
       "      <td>55.925898</td>\n",
       "      <td>135.528502</td>\n",
       "      <td>29.242031</td>\n",
       "      <td>0.412650</td>\n",
       "    </tr>\n",
       "  </tbody>\n",
       "</table>\n",
       "</div>"
      ],
      "text/plain": [
       "   S&P Composite   Dividend    Earnings      CPI  Long Interest Rate  \\\n",
       "0    2982.156000  57.220000  132.950000  256.759                1.70   \n",
       "1    2897.498182  56.839092  133.723333  256.558                1.63   \n",
       "2    2996.113636  56.458183  134.496667  256.571                1.63   \n",
       "3    2890.170000  56.077275  135.270000  256.143                2.06   \n",
       "4    2854.710000  55.698183  134.976667  256.092                2.40   \n",
       "\n",
       "    Real Price  Real Dividend  Real Earnings  Cyclically Adjusted PE Ratio  \\\n",
       "0  2986.569552      57.304685     133.146764                     29.229401   \n",
       "1  2904.059842      56.967809     134.026163                     28.705358   \n",
       "2  3002.746469      56.583171     134.794417                     29.986685   \n",
       "3  2901.408290      56.295329     135.795991                     29.283796   \n",
       "4  2866.381124      55.925898     135.528502                     29.242031   \n",
       "\n",
       "   Dividend/Earnings  \n",
       "0           0.430387  \n",
       "1           0.425050  \n",
       "2           0.419774  \n",
       "3           0.414558  \n",
       "4           0.412650  "
      ]
     },
     "execution_count": 70,
     "metadata": {},
     "output_type": "execute_result"
    }
   ],
   "source": [
    "df['Dividend/Earnings'] = df['Dividend']/df['Earnings']\n",
    "df.head()"
   ]
  },
  {
   "cell_type": "code",
   "execution_count": 77,
   "metadata": {},
   "outputs": [
    {
     "data": {
      "text/html": [
       "<div>\n",
       "<style scoped>\n",
       "    .dataframe tbody tr th:only-of-type {\n",
       "        vertical-align: middle;\n",
       "    }\n",
       "\n",
       "    .dataframe tbody tr th {\n",
       "        vertical-align: top;\n",
       "    }\n",
       "\n",
       "    .dataframe thead th {\n",
       "        text-align: right;\n",
       "    }\n",
       "</style>\n",
       "<table border=\"1\" class=\"dataframe\">\n",
       "  <thead>\n",
       "    <tr style=\"text-align: right;\">\n",
       "      <th></th>\n",
       "      <th>S&amp;P Composite</th>\n",
       "      <th>Dividend</th>\n",
       "      <th>Earnings</th>\n",
       "      <th>CPI</th>\n",
       "      <th>Long Interest Rate</th>\n",
       "      <th>Real Price</th>\n",
       "      <th>Real Dividend</th>\n",
       "      <th>Real Earnings</th>\n",
       "      <th>Cyclically Adjusted PE Ratio</th>\n",
       "      <th>Dividend/Earnings</th>\n",
       "      <th>Inflation rate</th>\n",
       "    </tr>\n",
       "  </thead>\n",
       "  <tbody>\n",
       "    <tr>\n",
       "      <th>0</th>\n",
       "      <td>2982.156000</td>\n",
       "      <td>57.220000</td>\n",
       "      <td>132.950000</td>\n",
       "      <td>256.759</td>\n",
       "      <td>1.70</td>\n",
       "      <td>2986.569552</td>\n",
       "      <td>57.304685</td>\n",
       "      <td>133.146764</td>\n",
       "      <td>29.229401</td>\n",
       "      <td>0.430387</td>\n",
       "      <td>NaN</td>\n",
       "    </tr>\n",
       "    <tr>\n",
       "      <th>1</th>\n",
       "      <td>2897.498182</td>\n",
       "      <td>56.839092</td>\n",
       "      <td>133.723333</td>\n",
       "      <td>256.558</td>\n",
       "      <td>1.63</td>\n",
       "      <td>2904.059842</td>\n",
       "      <td>56.967809</td>\n",
       "      <td>134.026163</td>\n",
       "      <td>28.705358</td>\n",
       "      <td>0.425050</td>\n",
       "      <td>-20.1</td>\n",
       "    </tr>\n",
       "    <tr>\n",
       "      <th>2</th>\n",
       "      <td>2996.113636</td>\n",
       "      <td>56.458183</td>\n",
       "      <td>134.496667</td>\n",
       "      <td>256.571</td>\n",
       "      <td>1.63</td>\n",
       "      <td>3002.746469</td>\n",
       "      <td>56.583171</td>\n",
       "      <td>134.794417</td>\n",
       "      <td>29.986685</td>\n",
       "      <td>0.419774</td>\n",
       "      <td>1.3</td>\n",
       "    </tr>\n",
       "    <tr>\n",
       "      <th>3</th>\n",
       "      <td>2890.170000</td>\n",
       "      <td>56.077275</td>\n",
       "      <td>135.270000</td>\n",
       "      <td>256.143</td>\n",
       "      <td>2.06</td>\n",
       "      <td>2901.408290</td>\n",
       "      <td>56.295329</td>\n",
       "      <td>135.795991</td>\n",
       "      <td>29.283796</td>\n",
       "      <td>0.414558</td>\n",
       "      <td>-42.8</td>\n",
       "    </tr>\n",
       "    <tr>\n",
       "      <th>4</th>\n",
       "      <td>2854.710000</td>\n",
       "      <td>55.698183</td>\n",
       "      <td>134.976667</td>\n",
       "      <td>256.092</td>\n",
       "      <td>2.40</td>\n",
       "      <td>2866.381124</td>\n",
       "      <td>55.925898</td>\n",
       "      <td>135.528502</td>\n",
       "      <td>29.242031</td>\n",
       "      <td>0.412650</td>\n",
       "      <td>-5.1</td>\n",
       "    </tr>\n",
       "  </tbody>\n",
       "</table>\n",
       "</div>"
      ],
      "text/plain": [
       "   S&P Composite   Dividend    Earnings      CPI  Long Interest Rate  \\\n",
       "0    2982.156000  57.220000  132.950000  256.759                1.70   \n",
       "1    2897.498182  56.839092  133.723333  256.558                1.63   \n",
       "2    2996.113636  56.458183  134.496667  256.571                1.63   \n",
       "3    2890.170000  56.077275  135.270000  256.143                2.06   \n",
       "4    2854.710000  55.698183  134.976667  256.092                2.40   \n",
       "\n",
       "    Real Price  Real Dividend  Real Earnings  Cyclically Adjusted PE Ratio  \\\n",
       "0  2986.569552      57.304685     133.146764                     29.229401   \n",
       "1  2904.059842      56.967809     134.026163                     28.705358   \n",
       "2  3002.746469      56.583171     134.794417                     29.986685   \n",
       "3  2901.408290      56.295329     135.795991                     29.283796   \n",
       "4  2866.381124      55.925898     135.528502                     29.242031   \n",
       "\n",
       "   Dividend/Earnings  Inflation rate  \n",
       "0           0.430387             NaN  \n",
       "1           0.425050           -20.1  \n",
       "2           0.419774             1.3  \n",
       "3           0.414558           -42.8  \n",
       "4           0.412650            -5.1  "
      ]
     },
     "execution_count": 77,
     "metadata": {},
     "output_type": "execute_result"
    }
   ],
   "source": [
    "df['Inflation rate'] = df['CPI'].diff()\n",
    "df['Inflation rate']= df['Inflation rate']*100\n",
    "df.head()"
   ]
  },
  {
   "cell_type": "code",
   "execution_count": 80,
   "metadata": {},
   "outputs": [
    {
     "data": {
      "text/html": [
       "<div>\n",
       "<style scoped>\n",
       "    .dataframe tbody tr th:only-of-type {\n",
       "        vertical-align: middle;\n",
       "    }\n",
       "\n",
       "    .dataframe tbody tr th {\n",
       "        vertical-align: top;\n",
       "    }\n",
       "\n",
       "    .dataframe thead th {\n",
       "        text-align: right;\n",
       "    }\n",
       "</style>\n",
       "<table border=\"1\" class=\"dataframe\">\n",
       "  <thead>\n",
       "    <tr style=\"text-align: right;\">\n",
       "      <th></th>\n",
       "      <th>S&amp;P Composite</th>\n",
       "      <th>Dividend</th>\n",
       "      <th>Earnings</th>\n",
       "      <th>CPI</th>\n",
       "      <th>Long Interest Rate</th>\n",
       "      <th>Real Price</th>\n",
       "      <th>Real Dividend</th>\n",
       "      <th>Real Earnings</th>\n",
       "      <th>Cyclically Adjusted PE Ratio</th>\n",
       "      <th>Dividend/Earnings</th>\n",
       "      <th>Inflation rate</th>\n",
       "      <th>% change in price</th>\n",
       "    </tr>\n",
       "  </thead>\n",
       "  <tbody>\n",
       "    <tr>\n",
       "      <th>0</th>\n",
       "      <td>2982.156000</td>\n",
       "      <td>57.220000</td>\n",
       "      <td>132.950000</td>\n",
       "      <td>256.759</td>\n",
       "      <td>1.70</td>\n",
       "      <td>2986.569552</td>\n",
       "      <td>57.304685</td>\n",
       "      <td>133.146764</td>\n",
       "      <td>29.229401</td>\n",
       "      <td>0.430387</td>\n",
       "      <td>NaN</td>\n",
       "      <td>-0.147780</td>\n",
       "    </tr>\n",
       "    <tr>\n",
       "      <th>1</th>\n",
       "      <td>2897.498182</td>\n",
       "      <td>56.839092</td>\n",
       "      <td>133.723333</td>\n",
       "      <td>256.558</td>\n",
       "      <td>1.63</td>\n",
       "      <td>2904.059842</td>\n",
       "      <td>56.967809</td>\n",
       "      <td>134.026163</td>\n",
       "      <td>28.705358</td>\n",
       "      <td>0.425050</td>\n",
       "      <td>-20.1</td>\n",
       "      <td>-0.225948</td>\n",
       "    </tr>\n",
       "    <tr>\n",
       "      <th>2</th>\n",
       "      <td>2996.113636</td>\n",
       "      <td>56.458183</td>\n",
       "      <td>134.496667</td>\n",
       "      <td>256.571</td>\n",
       "      <td>1.63</td>\n",
       "      <td>3002.746469</td>\n",
       "      <td>56.583171</td>\n",
       "      <td>134.794417</td>\n",
       "      <td>29.986685</td>\n",
       "      <td>0.419774</td>\n",
       "      <td>1.3</td>\n",
       "      <td>-0.220892</td>\n",
       "    </tr>\n",
       "    <tr>\n",
       "      <th>3</th>\n",
       "      <td>2890.170000</td>\n",
       "      <td>56.077275</td>\n",
       "      <td>135.270000</td>\n",
       "      <td>256.143</td>\n",
       "      <td>2.06</td>\n",
       "      <td>2901.408290</td>\n",
       "      <td>56.295329</td>\n",
       "      <td>135.795991</td>\n",
       "      <td>29.283796</td>\n",
       "      <td>0.414558</td>\n",
       "      <td>-42.8</td>\n",
       "      <td>-0.387339</td>\n",
       "    </tr>\n",
       "    <tr>\n",
       "      <th>4</th>\n",
       "      <td>2854.710000</td>\n",
       "      <td>55.698183</td>\n",
       "      <td>134.976667</td>\n",
       "      <td>256.092</td>\n",
       "      <td>2.40</td>\n",
       "      <td>2866.381124</td>\n",
       "      <td>55.925898</td>\n",
       "      <td>135.528502</td>\n",
       "      <td>29.242031</td>\n",
       "      <td>0.412650</td>\n",
       "      <td>-5.1</td>\n",
       "      <td>-0.407173</td>\n",
       "    </tr>\n",
       "  </tbody>\n",
       "</table>\n",
       "</div>"
      ],
      "text/plain": [
       "   S&P Composite   Dividend    Earnings      CPI  Long Interest Rate  \\\n",
       "0    2982.156000  57.220000  132.950000  256.759                1.70   \n",
       "1    2897.498182  56.839092  133.723333  256.558                1.63   \n",
       "2    2996.113636  56.458183  134.496667  256.571                1.63   \n",
       "3    2890.170000  56.077275  135.270000  256.143                2.06   \n",
       "4    2854.710000  55.698183  134.976667  256.092                2.40   \n",
       "\n",
       "    Real Price  Real Dividend  Real Earnings  Cyclically Adjusted PE Ratio  \\\n",
       "0  2986.569552      57.304685     133.146764                     29.229401   \n",
       "1  2904.059842      56.967809     134.026163                     28.705358   \n",
       "2  3002.746469      56.583171     134.794417                     29.986685   \n",
       "3  2901.408290      56.295329     135.795991                     29.283796   \n",
       "4  2866.381124      55.925898     135.528502                     29.242031   \n",
       "\n",
       "   Dividend/Earnings  Inflation rate  % change in price  \n",
       "0           0.430387             NaN          -0.147780  \n",
       "1           0.425050           -20.1          -0.225948  \n",
       "2           0.419774             1.3          -0.220892  \n",
       "3           0.414558           -42.8          -0.387339  \n",
       "4           0.412650            -5.1          -0.407173  "
      ]
     },
     "execution_count": 80,
     "metadata": {},
     "output_type": "execute_result"
    }
   ],
   "source": [
    "df['% change in price'] = ((df['S&P Composite']-df['Real Price'])/df['Real Price'])*100\n",
    "df.head()"
   ]
  },
  {
   "cell_type": "code",
   "execution_count": 82,
   "metadata": {},
   "outputs": [
    {
     "data": {
      "text/html": [
       "<div>\n",
       "<style scoped>\n",
       "    .dataframe tbody tr th:only-of-type {\n",
       "        vertical-align: middle;\n",
       "    }\n",
       "\n",
       "    .dataframe tbody tr th {\n",
       "        vertical-align: top;\n",
       "    }\n",
       "\n",
       "    .dataframe thead th {\n",
       "        text-align: right;\n",
       "    }\n",
       "</style>\n",
       "<table border=\"1\" class=\"dataframe\">\n",
       "  <thead>\n",
       "    <tr style=\"text-align: right;\">\n",
       "      <th></th>\n",
       "      <th>S&amp;P Composite</th>\n",
       "      <th>Dividend</th>\n",
       "      <th>Earnings</th>\n",
       "      <th>CPI</th>\n",
       "      <th>Long Interest Rate</th>\n",
       "      <th>Real Price</th>\n",
       "      <th>Real Dividend</th>\n",
       "      <th>Real Earnings</th>\n",
       "      <th>Cyclically Adjusted PE Ratio</th>\n",
       "      <th>Dividend/Earnings</th>\n",
       "      <th>Inflation rate</th>\n",
       "      <th>% change in price</th>\n",
       "      <th>Real Dividend/Real Earnings</th>\n",
       "    </tr>\n",
       "  </thead>\n",
       "  <tbody>\n",
       "    <tr>\n",
       "      <th>0</th>\n",
       "      <td>2982.156000</td>\n",
       "      <td>57.220000</td>\n",
       "      <td>132.950000</td>\n",
       "      <td>256.759</td>\n",
       "      <td>1.70</td>\n",
       "      <td>2986.569552</td>\n",
       "      <td>57.304685</td>\n",
       "      <td>133.146764</td>\n",
       "      <td>29.229401</td>\n",
       "      <td>0.430387</td>\n",
       "      <td>NaN</td>\n",
       "      <td>-0.147780</td>\n",
       "      <td>0.430387</td>\n",
       "    </tr>\n",
       "    <tr>\n",
       "      <th>1</th>\n",
       "      <td>2897.498182</td>\n",
       "      <td>56.839092</td>\n",
       "      <td>133.723333</td>\n",
       "      <td>256.558</td>\n",
       "      <td>1.63</td>\n",
       "      <td>2904.059842</td>\n",
       "      <td>56.967809</td>\n",
       "      <td>134.026163</td>\n",
       "      <td>28.705358</td>\n",
       "      <td>0.425050</td>\n",
       "      <td>-20.1</td>\n",
       "      <td>-0.225948</td>\n",
       "      <td>0.425050</td>\n",
       "    </tr>\n",
       "    <tr>\n",
       "      <th>2</th>\n",
       "      <td>2996.113636</td>\n",
       "      <td>56.458183</td>\n",
       "      <td>134.496667</td>\n",
       "      <td>256.571</td>\n",
       "      <td>1.63</td>\n",
       "      <td>3002.746469</td>\n",
       "      <td>56.583171</td>\n",
       "      <td>134.794417</td>\n",
       "      <td>29.986685</td>\n",
       "      <td>0.419774</td>\n",
       "      <td>1.3</td>\n",
       "      <td>-0.220892</td>\n",
       "      <td>0.419774</td>\n",
       "    </tr>\n",
       "    <tr>\n",
       "      <th>3</th>\n",
       "      <td>2890.170000</td>\n",
       "      <td>56.077275</td>\n",
       "      <td>135.270000</td>\n",
       "      <td>256.143</td>\n",
       "      <td>2.06</td>\n",
       "      <td>2901.408290</td>\n",
       "      <td>56.295329</td>\n",
       "      <td>135.795991</td>\n",
       "      <td>29.283796</td>\n",
       "      <td>0.414558</td>\n",
       "      <td>-42.8</td>\n",
       "      <td>-0.387339</td>\n",
       "      <td>0.414558</td>\n",
       "    </tr>\n",
       "    <tr>\n",
       "      <th>4</th>\n",
       "      <td>2854.710000</td>\n",
       "      <td>55.698183</td>\n",
       "      <td>134.976667</td>\n",
       "      <td>256.092</td>\n",
       "      <td>2.40</td>\n",
       "      <td>2866.381124</td>\n",
       "      <td>55.925898</td>\n",
       "      <td>135.528502</td>\n",
       "      <td>29.242031</td>\n",
       "      <td>0.412650</td>\n",
       "      <td>-5.1</td>\n",
       "      <td>-0.407173</td>\n",
       "      <td>0.412650</td>\n",
       "    </tr>\n",
       "  </tbody>\n",
       "</table>\n",
       "</div>"
      ],
      "text/plain": [
       "   S&P Composite   Dividend    Earnings      CPI  Long Interest Rate  \\\n",
       "0    2982.156000  57.220000  132.950000  256.759                1.70   \n",
       "1    2897.498182  56.839092  133.723333  256.558                1.63   \n",
       "2    2996.113636  56.458183  134.496667  256.571                1.63   \n",
       "3    2890.170000  56.077275  135.270000  256.143                2.06   \n",
       "4    2854.710000  55.698183  134.976667  256.092                2.40   \n",
       "\n",
       "    Real Price  Real Dividend  Real Earnings  Cyclically Adjusted PE Ratio  \\\n",
       "0  2986.569552      57.304685     133.146764                     29.229401   \n",
       "1  2904.059842      56.967809     134.026163                     28.705358   \n",
       "2  3002.746469      56.583171     134.794417                     29.986685   \n",
       "3  2901.408290      56.295329     135.795991                     29.283796   \n",
       "4  2866.381124      55.925898     135.528502                     29.242031   \n",
       "\n",
       "   Dividend/Earnings  Inflation rate  % change in price  \\\n",
       "0           0.430387             NaN          -0.147780   \n",
       "1           0.425050           -20.1          -0.225948   \n",
       "2           0.419774             1.3          -0.220892   \n",
       "3           0.414558           -42.8          -0.387339   \n",
       "4           0.412650            -5.1          -0.407173   \n",
       "\n",
       "   Real Dividend/Real Earnings  \n",
       "0                     0.430387  \n",
       "1                     0.425050  \n",
       "2                     0.419774  \n",
       "3                     0.414558  \n",
       "4                     0.412650  "
      ]
     },
     "execution_count": 82,
     "metadata": {},
     "output_type": "execute_result"
    }
   ],
   "source": [
    "df['Real Dividend/Real Earnings'] = df['Real Dividend']/df['Real Earnings']\n",
    "df.head()"
   ]
  },
  {
   "cell_type": "code",
   "execution_count": 86,
   "metadata": {},
   "outputs": [],
   "source": [
    "df['change in D_E'] = df['Dividend/Earnings']- df['Real Dividend/Real Earnings']\n"
   ]
  },
  {
   "cell_type": "code",
   "execution_count": 89,
   "metadata": {},
   "outputs": [
    {
     "data": {
      "text/html": [
       "<div>\n",
       "<style scoped>\n",
       "    .dataframe tbody tr th:only-of-type {\n",
       "        vertical-align: middle;\n",
       "    }\n",
       "\n",
       "    .dataframe tbody tr th {\n",
       "        vertical-align: top;\n",
       "    }\n",
       "\n",
       "    .dataframe thead th {\n",
       "        text-align: right;\n",
       "    }\n",
       "</style>\n",
       "<table border=\"1\" class=\"dataframe\">\n",
       "  <thead>\n",
       "    <tr style=\"text-align: right;\">\n",
       "      <th></th>\n",
       "      <th>S&amp;P Composite</th>\n",
       "      <th>Dividend</th>\n",
       "      <th>Earnings</th>\n",
       "      <th>CPI</th>\n",
       "      <th>Long Interest Rate</th>\n",
       "      <th>Real Price</th>\n",
       "      <th>Real Dividend</th>\n",
       "      <th>Real Earnings</th>\n",
       "      <th>Cyclically Adjusted PE Ratio</th>\n",
       "      <th>Dividend/Earnings</th>\n",
       "      <th>Inflation rate</th>\n",
       "      <th>% change in price</th>\n",
       "      <th>Real Dividend/Real Earnings</th>\n",
       "      <th>change in dividends to earnings</th>\n",
       "    </tr>\n",
       "  </thead>\n",
       "  <tbody>\n",
       "    <tr>\n",
       "      <th>0</th>\n",
       "      <td>2982.156000</td>\n",
       "      <td>57.220000</td>\n",
       "      <td>132.950000</td>\n",
       "      <td>256.759</td>\n",
       "      <td>1.70</td>\n",
       "      <td>2986.569552</td>\n",
       "      <td>57.304685</td>\n",
       "      <td>133.146764</td>\n",
       "      <td>29.229401</td>\n",
       "      <td>0.430387</td>\n",
       "      <td>NaN</td>\n",
       "      <td>-0.147780</td>\n",
       "      <td>0.430387</td>\n",
       "      <td>-6.827872e-15</td>\n",
       "    </tr>\n",
       "    <tr>\n",
       "      <th>1</th>\n",
       "      <td>2897.498182</td>\n",
       "      <td>56.839092</td>\n",
       "      <td>133.723333</td>\n",
       "      <td>256.558</td>\n",
       "      <td>1.63</td>\n",
       "      <td>2904.059842</td>\n",
       "      <td>56.967809</td>\n",
       "      <td>134.026163</td>\n",
       "      <td>28.705358</td>\n",
       "      <td>0.425050</td>\n",
       "      <td>-20.1</td>\n",
       "      <td>-0.225948</td>\n",
       "      <td>0.425050</td>\n",
       "      <td>6.716849e-15</td>\n",
       "    </tr>\n",
       "    <tr>\n",
       "      <th>2</th>\n",
       "      <td>2996.113636</td>\n",
       "      <td>56.458183</td>\n",
       "      <td>134.496667</td>\n",
       "      <td>256.571</td>\n",
       "      <td>1.63</td>\n",
       "      <td>3002.746469</td>\n",
       "      <td>56.583171</td>\n",
       "      <td>134.794417</td>\n",
       "      <td>29.986685</td>\n",
       "      <td>0.419774</td>\n",
       "      <td>1.3</td>\n",
       "      <td>-0.220892</td>\n",
       "      <td>0.419774</td>\n",
       "      <td>-5.051515e-15</td>\n",
       "    </tr>\n",
       "    <tr>\n",
       "      <th>3</th>\n",
       "      <td>2890.170000</td>\n",
       "      <td>56.077275</td>\n",
       "      <td>135.270000</td>\n",
       "      <td>256.143</td>\n",
       "      <td>2.06</td>\n",
       "      <td>2901.408290</td>\n",
       "      <td>56.295329</td>\n",
       "      <td>135.795991</td>\n",
       "      <td>29.283796</td>\n",
       "      <td>0.414558</td>\n",
       "      <td>-42.8</td>\n",
       "      <td>-0.387339</td>\n",
       "      <td>0.414558</td>\n",
       "      <td>3.774758e-15</td>\n",
       "    </tr>\n",
       "    <tr>\n",
       "      <th>4</th>\n",
       "      <td>2854.710000</td>\n",
       "      <td>55.698183</td>\n",
       "      <td>134.976667</td>\n",
       "      <td>256.092</td>\n",
       "      <td>2.40</td>\n",
       "      <td>2866.381124</td>\n",
       "      <td>55.925898</td>\n",
       "      <td>135.528502</td>\n",
       "      <td>29.242031</td>\n",
       "      <td>0.412650</td>\n",
       "      <td>-5.1</td>\n",
       "      <td>-0.407173</td>\n",
       "      <td>0.412650</td>\n",
       "      <td>-6.383782e-15</td>\n",
       "    </tr>\n",
       "  </tbody>\n",
       "</table>\n",
       "</div>"
      ],
      "text/plain": [
       "   S&P Composite   Dividend    Earnings      CPI  Long Interest Rate  \\\n",
       "0    2982.156000  57.220000  132.950000  256.759                1.70   \n",
       "1    2897.498182  56.839092  133.723333  256.558                1.63   \n",
       "2    2996.113636  56.458183  134.496667  256.571                1.63   \n",
       "3    2890.170000  56.077275  135.270000  256.143                2.06   \n",
       "4    2854.710000  55.698183  134.976667  256.092                2.40   \n",
       "\n",
       "    Real Price  Real Dividend  Real Earnings  Cyclically Adjusted PE Ratio  \\\n",
       "0  2986.569552      57.304685     133.146764                     29.229401   \n",
       "1  2904.059842      56.967809     134.026163                     28.705358   \n",
       "2  3002.746469      56.583171     134.794417                     29.986685   \n",
       "3  2901.408290      56.295329     135.795991                     29.283796   \n",
       "4  2866.381124      55.925898     135.528502                     29.242031   \n",
       "\n",
       "   Dividend/Earnings  Inflation rate  % change in price  \\\n",
       "0           0.430387             NaN          -0.147780   \n",
       "1           0.425050           -20.1          -0.225948   \n",
       "2           0.419774             1.3          -0.220892   \n",
       "3           0.414558           -42.8          -0.387339   \n",
       "4           0.412650            -5.1          -0.407173   \n",
       "\n",
       "   Real Dividend/Real Earnings  change in dividends to earnings  \n",
       "0                     0.430387                    -6.827872e-15  \n",
       "1                     0.425050                     6.716849e-15  \n",
       "2                     0.419774                    -5.051515e-15  \n",
       "3                     0.414558                     3.774758e-15  \n",
       "4                     0.412650                    -6.383782e-15  "
      ]
     },
     "execution_count": 89,
     "metadata": {},
     "output_type": "execute_result"
    }
   ],
   "source": [
    "df=df.drop(columns='change in D_E',axis=1)\n",
    "df.head()"
   ]
  },
  {
   "cell_type": "markdown",
   "metadata": {},
   "source": [
    "### dropping columns "
   ]
  },
  {
   "cell_type": "code",
   "execution_count": 91,
   "metadata": {},
   "outputs": [
    {
     "data": {
      "text/html": [
       "<div>\n",
       "<style scoped>\n",
       "    .dataframe tbody tr th:only-of-type {\n",
       "        vertical-align: middle;\n",
       "    }\n",
       "\n",
       "    .dataframe tbody tr th {\n",
       "        vertical-align: top;\n",
       "    }\n",
       "\n",
       "    .dataframe thead th {\n",
       "        text-align: right;\n",
       "    }\n",
       "</style>\n",
       "<table border=\"1\" class=\"dataframe\">\n",
       "  <thead>\n",
       "    <tr style=\"text-align: right;\">\n",
       "      <th></th>\n",
       "      <th>S&amp;P Composite</th>\n",
       "      <th>CPI</th>\n",
       "      <th>Long Interest Rate</th>\n",
       "      <th>Real Price</th>\n",
       "      <th>Cyclically Adjusted PE Ratio</th>\n",
       "      <th>Inflation rate</th>\n",
       "      <th>% change in price</th>\n",
       "      <th>change in dividends to earnings</th>\n",
       "    </tr>\n",
       "  </thead>\n",
       "  <tbody>\n",
       "    <tr>\n",
       "      <th>0</th>\n",
       "      <td>2982.156000</td>\n",
       "      <td>256.759</td>\n",
       "      <td>1.70</td>\n",
       "      <td>2986.569552</td>\n",
       "      <td>29.229401</td>\n",
       "      <td>NaN</td>\n",
       "      <td>-0.147780</td>\n",
       "      <td>-6.827872e-15</td>\n",
       "    </tr>\n",
       "    <tr>\n",
       "      <th>1</th>\n",
       "      <td>2897.498182</td>\n",
       "      <td>256.558</td>\n",
       "      <td>1.63</td>\n",
       "      <td>2904.059842</td>\n",
       "      <td>28.705358</td>\n",
       "      <td>-20.1</td>\n",
       "      <td>-0.225948</td>\n",
       "      <td>6.716849e-15</td>\n",
       "    </tr>\n",
       "    <tr>\n",
       "      <th>2</th>\n",
       "      <td>2996.113636</td>\n",
       "      <td>256.571</td>\n",
       "      <td>1.63</td>\n",
       "      <td>3002.746469</td>\n",
       "      <td>29.986685</td>\n",
       "      <td>1.3</td>\n",
       "      <td>-0.220892</td>\n",
       "      <td>-5.051515e-15</td>\n",
       "    </tr>\n",
       "    <tr>\n",
       "      <th>3</th>\n",
       "      <td>2890.170000</td>\n",
       "      <td>256.143</td>\n",
       "      <td>2.06</td>\n",
       "      <td>2901.408290</td>\n",
       "      <td>29.283796</td>\n",
       "      <td>-42.8</td>\n",
       "      <td>-0.387339</td>\n",
       "      <td>3.774758e-15</td>\n",
       "    </tr>\n",
       "    <tr>\n",
       "      <th>4</th>\n",
       "      <td>2854.710000</td>\n",
       "      <td>256.092</td>\n",
       "      <td>2.40</td>\n",
       "      <td>2866.381124</td>\n",
       "      <td>29.242031</td>\n",
       "      <td>-5.1</td>\n",
       "      <td>-0.407173</td>\n",
       "      <td>-6.383782e-15</td>\n",
       "    </tr>\n",
       "  </tbody>\n",
       "</table>\n",
       "</div>"
      ],
      "text/plain": [
       "   S&P Composite      CPI  Long Interest Rate   Real Price  \\\n",
       "0    2982.156000  256.759                1.70  2986.569552   \n",
       "1    2897.498182  256.558                1.63  2904.059842   \n",
       "2    2996.113636  256.571                1.63  3002.746469   \n",
       "3    2890.170000  256.143                2.06  2901.408290   \n",
       "4    2854.710000  256.092                2.40  2866.381124   \n",
       "\n",
       "   Cyclically Adjusted PE Ratio  Inflation rate  % change in price  \\\n",
       "0                     29.229401             NaN          -0.147780   \n",
       "1                     28.705358           -20.1          -0.225948   \n",
       "2                     29.986685             1.3          -0.220892   \n",
       "3                     29.283796           -42.8          -0.387339   \n",
       "4                     29.242031            -5.1          -0.407173   \n",
       "\n",
       "   change in dividends to earnings  \n",
       "0                    -6.827872e-15  \n",
       "1                     6.716849e-15  \n",
       "2                    -5.051515e-15  \n",
       "3                     3.774758e-15  \n",
       "4                    -6.383782e-15  "
      ]
     },
     "execution_count": 91,
     "metadata": {},
     "output_type": "execute_result"
    }
   ],
   "source": [
    "df1 = adf.drop(columns=['Dividend','Earnings','Real Dividend','Real Earnings','Dividend/Earnings','Real Dividend/Real Earnings'],axis=1)\n",
    "df1.head()"
   ]
  },
  {
   "cell_type": "code",
   "execution_count": 93,
   "metadata": {},
   "outputs": [],
   "source": [
    "df1['Inflation rate']=df1['Inflation rate'].fillna(0)"
   ]
  },
  {
   "cell_type": "code",
   "execution_count": 99,
   "metadata": {},
   "outputs": [],
   "source": [
    "df1=df1.d0rop(columns=['CPI','Real Price'],axis=1)"
   ]
  },
  {
   "cell_type": "markdown",
   "metadata": {},
   "source": [
    "### Building model with transformed features "
   ]
  },
  {
   "cell_type": "code",
   "execution_count": 100,
   "metadata": {},
   "outputs": [
    {
     "name": "stdout",
     "output_type": "stream",
     "text": [
      "(1165, 5)\n",
      "(500, 5)\n",
      "(500,)\n"
     ]
    }
   ],
   "source": [
    "x=df1.drop(columns='S&P Composite',axis=1)\n",
    "y=df1['S&P Composite']\n",
    "x_train,x_test,y_train,y_test=train_test_split(x,y,test_size=0.30,random_state=2)\n",
    "print(x_train.shape)\n",
    "print(x_test.shape)\n",
    "print(y_test.shape)"
   ]
  },
  {
   "cell_type": "code",
   "execution_count": 101,
   "metadata": {},
   "outputs": [
    {
     "data": {
      "text/html": [
       "<table class=\"simpletable\">\n",
       "<caption>OLS Regression Results</caption>\n",
       "<tr>\n",
       "  <th>Dep. Variable:</th>      <td>S&P Composite</td>  <th>  R-squared:         </th> <td>   0.907</td> \n",
       "</tr>\n",
       "<tr>\n",
       "  <th>Model:</th>                   <td>OLS</td>       <th>  Adj. R-squared:    </th> <td>   0.907</td> \n",
       "</tr>\n",
       "<tr>\n",
       "  <th>Method:</th>             <td>Least Squares</td>  <th>  F-statistic:       </th> <td>   2832.</td> \n",
       "</tr>\n",
       "<tr>\n",
       "  <th>Date:</th>             <td>Wed, 22 Jan 2020</td> <th>  Prob (F-statistic):</th>  <td>  0.00</td>  \n",
       "</tr>\n",
       "<tr>\n",
       "  <th>Time:</th>                 <td>22:33:20</td>     <th>  Log-Likelihood:    </th> <td> -7691.7</td> \n",
       "</tr>\n",
       "<tr>\n",
       "  <th>No. Observations:</th>      <td>  1165</td>      <th>  AIC:               </th> <td>1.539e+04</td>\n",
       "</tr>\n",
       "<tr>\n",
       "  <th>Df Residuals:</th>          <td>  1160</td>      <th>  BIC:               </th> <td>1.542e+04</td>\n",
       "</tr>\n",
       "<tr>\n",
       "  <th>Df Model:</th>              <td>     4</td>      <th>                     </th>     <td> </td>    \n",
       "</tr>\n",
       "<tr>\n",
       "  <th>Covariance Type:</th>      <td>nonrobust</td>    <th>                     </th>     <td> </td>    \n",
       "</tr>\n",
       "</table>\n",
       "<table class=\"simpletable\">\n",
       "<tr>\n",
       "                 <td></td>                    <th>coef</th>     <th>std err</th>      <th>t</th>      <th>P>|t|</th>  <th>[0.025</th>    <th>0.975]</th>  \n",
       "</tr>\n",
       "<tr>\n",
       "  <th>const</th>                           <td> 1709.5895</td> <td>   37.490</td> <td>   45.601</td> <td> 0.000</td> <td> 1636.034</td> <td> 1783.145</td>\n",
       "</tr>\n",
       "<tr>\n",
       "  <th>Long Interest Rate</th>              <td>  -55.1859</td> <td>    2.509</td> <td>  -21.996</td> <td> 0.000</td> <td>  -60.108</td> <td>  -50.264</td>\n",
       "</tr>\n",
       "<tr>\n",
       "  <th>Cyclically Adjusted PE Ratio</th>    <td>   10.7337</td> <td>    1.008</td> <td>   10.646</td> <td> 0.000</td> <td>    8.756</td> <td>   12.712</td>\n",
       "</tr>\n",
       "<tr>\n",
       "  <th>Inflation rate</th>                  <td>    0.0380</td> <td>    0.148</td> <td>    0.256</td> <td> 0.798</td> <td>   -0.253</td> <td>    0.329</td>\n",
       "</tr>\n",
       "<tr>\n",
       "  <th>% change in price</th>               <td>   17.7666</td> <td>    0.242</td> <td>   73.553</td> <td> 0.000</td> <td>   17.293</td> <td>   18.240</td>\n",
       "</tr>\n",
       "<tr>\n",
       "  <th>change in dividends to earnings</th> <td> 6.776e-15</td> <td> 2.97e-16</td> <td>   22.807</td> <td> 0.000</td> <td> 6.19e-15</td> <td> 7.36e-15</td>\n",
       "</tr>\n",
       "</table>\n",
       "<table class=\"simpletable\">\n",
       "<tr>\n",
       "  <th>Omnibus:</th>       <td>493.889</td> <th>  Durbin-Watson:     </th> <td>   1.928</td>\n",
       "</tr>\n",
       "<tr>\n",
       "  <th>Prob(Omnibus):</th> <td> 0.000</td>  <th>  Jarque-Bera (JB):  </th> <td>4795.442</td>\n",
       "</tr>\n",
       "<tr>\n",
       "  <th>Skew:</th>          <td> 1.690</td>  <th>  Prob(JB):          </th> <td>    0.00</td>\n",
       "</tr>\n",
       "<tr>\n",
       "  <th>Kurtosis:</th>      <td>12.347</td>  <th>  Cond. No.          </th> <td>5.87e+15</td>\n",
       "</tr>\n",
       "</table><br/><br/>Warnings:<br/>[1] Standard Errors assume that the covariance matrix of the errors is correctly specified.<br/>[2] The smallest eigenvalue is 2.32e-25. This might indicate that there are<br/>strong multicollinearity problems or that the design matrix is singular."
      ],
      "text/plain": [
       "<class 'statsmodels.iolib.summary.Summary'>\n",
       "\"\"\"\n",
       "                            OLS Regression Results                            \n",
       "==============================================================================\n",
       "Dep. Variable:          S&P Composite   R-squared:                       0.907\n",
       "Model:                            OLS   Adj. R-squared:                  0.907\n",
       "Method:                 Least Squares   F-statistic:                     2832.\n",
       "Date:                Wed, 22 Jan 2020   Prob (F-statistic):               0.00\n",
       "Time:                        22:33:20   Log-Likelihood:                -7691.7\n",
       "No. Observations:                1165   AIC:                         1.539e+04\n",
       "Df Residuals:                    1160   BIC:                         1.542e+04\n",
       "Df Model:                           4                                         \n",
       "Covariance Type:            nonrobust                                         \n",
       "===================================================================================================\n",
       "                                      coef    std err          t      P>|t|      [0.025      0.975]\n",
       "---------------------------------------------------------------------------------------------------\n",
       "const                            1709.5895     37.490     45.601      0.000    1636.034    1783.145\n",
       "Long Interest Rate                -55.1859      2.509    -21.996      0.000     -60.108     -50.264\n",
       "Cyclically Adjusted PE Ratio       10.7337      1.008     10.646      0.000       8.756      12.712\n",
       "Inflation rate                      0.0380      0.148      0.256      0.798      -0.253       0.329\n",
       "% change in price                  17.7666      0.242     73.553      0.000      17.293      18.240\n",
       "change in dividends to earnings  6.776e-15   2.97e-16     22.807      0.000    6.19e-15    7.36e-15\n",
       "==============================================================================\n",
       "Omnibus:                      493.889   Durbin-Watson:                   1.928\n",
       "Prob(Omnibus):                  0.000   Jarque-Bera (JB):             4795.442\n",
       "Skew:                           1.690   Prob(JB):                         0.00\n",
       "Kurtosis:                      12.347   Cond. No.                     5.87e+15\n",
       "==============================================================================\n",
       "\n",
       "Warnings:\n",
       "[1] Standard Errors assume that the covariance matrix of the errors is correctly specified.\n",
       "[2] The smallest eigenvalue is 2.32e-25. This might indicate that there are\n",
       "strong multicollinearity problems or that the design matrix is singular.\n",
       "\"\"\""
      ]
     },
     "execution_count": 101,
     "metadata": {},
     "output_type": "execute_result"
    }
   ],
   "source": [
    "bm= sm.OLS(y_train, sm.add_constant(x_train)).fit()\n",
    "bm.summary()"
   ]
  },
  {
   "cell_type": "code",
   "execution_count": 102,
   "metadata": {},
   "outputs": [
    {
     "data": {
      "text/html": [
       "<div>\n",
       "<style scoped>\n",
       "    .dataframe tbody tr th:only-of-type {\n",
       "        vertical-align: middle;\n",
       "    }\n",
       "\n",
       "    .dataframe tbody tr th {\n",
       "        vertical-align: top;\n",
       "    }\n",
       "\n",
       "    .dataframe thead th {\n",
       "        text-align: right;\n",
       "    }\n",
       "</style>\n",
       "<table border=\"1\" class=\"dataframe\">\n",
       "  <thead>\n",
       "    <tr style=\"text-align: right;\">\n",
       "      <th></th>\n",
       "      <th>Long Interest Rate</th>\n",
       "      <th>Cyclically Adjusted PE Ratio</th>\n",
       "      <th>Inflation rate</th>\n",
       "      <th>% change in price</th>\n",
       "      <th>change in dividends to earnings</th>\n",
       "    </tr>\n",
       "  </thead>\n",
       "  <tbody>\n",
       "    <tr>\n",
       "      <th>vif</th>\n",
       "      <td>3.972162</td>\n",
       "      <td>3.431056</td>\n",
       "      <td>1.403449</td>\n",
       "      <td>3.741454</td>\n",
       "      <td>1.001972</td>\n",
       "    </tr>\n",
       "  </tbody>\n",
       "</table>\n",
       "</div>"
      ],
      "text/plain": [
       "     Long Interest Rate  Cyclically Adjusted PE Ratio  Inflation rate  \\\n",
       "vif            3.972162                      3.431056        1.403449   \n",
       "\n",
       "     % change in price  change in dividends to earnings  \n",
       "vif           3.741454                         1.001972  "
      ]
     },
     "execution_count": 102,
     "metadata": {},
     "output_type": "execute_result"
    }
   ],
   "source": [
    "from statsmodels.stats.outliers_influence import variance_inflation_factor\n",
    "\n",
    "vif = [variance_inflation_factor(x.values, i) for i in range(x.shape[1])]\n",
    "pd.DataFrame({'vif': vif[0:]}, index=x.columns).T"
   ]
  },
  {
   "cell_type": "markdown",
   "metadata": {},
   "source": [
    "#### multi collinearity is handled "
   ]
  },
  {
   "cell_type": "code",
   "execution_count": 179,
   "metadata": {},
   "outputs": [
    {
     "name": "stdout",
     "output_type": "stream",
     "text": [
      "R^2 score for train: 0.9072086631571407\n",
      "R^2 score for test: 0.8999347303188499\n"
     ]
    }
   ],
   "source": [
    "lr = LinearRegression()\n",
    "lr = lr.fit(x_train,y_train)\n",
    "print(f'R^2 score for train: {lr.score(x_train, y_train)}')\n",
    "print(f'R^2 score for test: {lr.score(x_test, y_test)}')"
   ]
  },
  {
   "cell_type": "code",
   "execution_count": 180,
   "metadata": {},
   "outputs": [
    {
     "data": {
      "text/html": [
       "<div>\n",
       "<style scoped>\n",
       "    .dataframe tbody tr th:only-of-type {\n",
       "        vertical-align: middle;\n",
       "    }\n",
       "\n",
       "    .dataframe tbody tr th {\n",
       "        vertical-align: top;\n",
       "    }\n",
       "\n",
       "    .dataframe thead th {\n",
       "        text-align: right;\n",
       "    }\n",
       "</style>\n",
       "<table border=\"1\" class=\"dataframe\">\n",
       "  <thead>\n",
       "    <tr style=\"text-align: right;\">\n",
       "      <th></th>\n",
       "      <th>Model</th>\n",
       "      <th>R-Squared</th>\n",
       "      <th>MSE</th>\n",
       "      <th>RMSE</th>\n",
       "    </tr>\n",
       "  </thead>\n",
       "  <tbody>\n",
       "    <tr>\n",
       "      <th>0</th>\n",
       "      <td>Linear regression base model</td>\n",
       "      <td>0.899935</td>\n",
       "      <td>33678.040107</td>\n",
       "      <td>183.515776</td>\n",
       "    </tr>\n",
       "  </tbody>\n",
       "</table>\n",
       "</div>"
      ],
      "text/plain": [
       "                          Model  R-Squared           MSE        RMSE\n",
       "0  Linear regression base model   0.899935  33678.040107  183.515776"
      ]
     },
     "execution_count": 180,
     "metadata": {},
     "output_type": "execute_result"
    }
   ],
   "source": [
    "from sklearn.metrics import mean_squared_error \n",
    "from sklearn.metrics import r2_score\n",
    "\n",
    "y_pred = lr.predict(x_test)\n",
    "mse = mean_squared_error(y_test,y_pred)\n",
    "\n",
    "rmse = np.sqrt(mse)\n",
    "\n",
    "rsquared = r2_score(y_test,y_pred)\n",
    "\n",
    "cols = ['Model', 'R-Squared','MSE','RMSE']\n",
    "\n",
    "# creating a empty dataframe of the colums\n",
    "result_tabulation = pd.DataFrame(columns = cols)\n",
    "\n",
    "# compiling the required information\n",
    "metrics = pd.Series({'Model': \"Linear regression base model\",'R-Squared': rsquared,'MSE':mse,'RMSE':rmse,})\n",
    "\n",
    "# appending our result table\n",
    "result_tabulation = result_tabulation.append(metrics, ignore_index = True)\n",
    "\n",
    "# view the result table\n",
    "result_tabulation\n"
   ]
  },
  {
   "cell_type": "markdown",
   "metadata": {},
   "source": [
    "### Linear regression with log transformed target variable "
   ]
  },
  {
   "cell_type": "code",
   "execution_count": 181,
   "metadata": {},
   "outputs": [],
   "source": [
    "y_trans= y.apply(lambda x: np.log(x))"
   ]
  },
  {
   "cell_type": "code",
   "execution_count": 182,
   "metadata": {},
   "outputs": [
    {
     "name": "stdout",
     "output_type": "stream",
     "text": [
      "(1165, 5)\n",
      "(500, 5)\n",
      "(500,)\n"
     ]
    }
   ],
   "source": [
    "x=df1.drop(columns='S&P Composite',axis=1)\n",
    "y=df1['S&P Composite']\n",
    "x_train,x_test,y_train,y_test=train_test_split(x,y_trans,test_size=0.30,random_state=2)\n",
    "print(x_train.shape)\n",
    "print(x_test.shape)\n",
    "print(y_test.shape)"
   ]
  },
  {
   "cell_type": "code",
   "execution_count": 183,
   "metadata": {},
   "outputs": [
    {
     "name": "stdout",
     "output_type": "stream",
     "text": [
      "R^2 score for train: 0.919952036785344\n",
      "R^2 score for test: 0.9266307887795591\n"
     ]
    },
    {
     "data": {
      "text/html": [
       "<div>\n",
       "<style scoped>\n",
       "    .dataframe tbody tr th:only-of-type {\n",
       "        vertical-align: middle;\n",
       "    }\n",
       "\n",
       "    .dataframe tbody tr th {\n",
       "        vertical-align: top;\n",
       "    }\n",
       "\n",
       "    .dataframe thead th {\n",
       "        text-align: right;\n",
       "    }\n",
       "</style>\n",
       "<table border=\"1\" class=\"dataframe\">\n",
       "  <thead>\n",
       "    <tr style=\"text-align: right;\">\n",
       "      <th></th>\n",
       "      <th>Model</th>\n",
       "      <th>R-Squared</th>\n",
       "      <th>MSE</th>\n",
       "      <th>RMSE</th>\n",
       "    </tr>\n",
       "  </thead>\n",
       "  <tbody>\n",
       "    <tr>\n",
       "      <th>0</th>\n",
       "      <td>Linear regression base model</td>\n",
       "      <td>0.899935</td>\n",
       "      <td>33678.040107</td>\n",
       "      <td>183.515776</td>\n",
       "    </tr>\n",
       "    <tr>\n",
       "      <th>1</th>\n",
       "      <td>Linear regression with log transfomed target</td>\n",
       "      <td>0.926631</td>\n",
       "      <td>0.291066</td>\n",
       "      <td>0.539505</td>\n",
       "    </tr>\n",
       "  </tbody>\n",
       "</table>\n",
       "</div>"
      ],
      "text/plain": [
       "                                           Model  R-Squared           MSE  \\\n",
       "0                   Linear regression base model   0.899935  33678.040107   \n",
       "1  Linear regression with log transfomed target    0.926631      0.291066   \n",
       "\n",
       "         RMSE  \n",
       "0  183.515776  \n",
       "1    0.539505  "
      ]
     },
     "execution_count": 183,
     "metadata": {},
     "output_type": "execute_result"
    }
   ],
   "source": [
    "lr = LinearRegression()\n",
    "lr = lr.fit(x_train,y_train)\n",
    "print(f'R^2 score for train: {lr.score(x_train, y_train)}')\n",
    "print(f'R^2 score for test: {lr.score(x_test, y_test)}')\n",
    "\n",
    "y_pred = lr.predict(x_test)\n",
    "mse = mean_squared_error(y_test,y_pred)\n",
    "\n",
    "rmse = np.sqrt(mse)\n",
    "\n",
    "rsquared = r2_score(y_test,y_pred)\n",
    "\n",
    "metrics = pd.Series({'Model': \"Linear regression with log transfomed target \",'R-Squared': rsquared,'MSE':mse,'RMSE':rmse,})\n",
    "\n",
    "# appending our result table\n",
    "result_tabulation = result_tabulation.append(metrics, ignore_index = True)\n",
    "\n",
    "# view the result table\n",
    "result_tabulation\n"
   ]
  },
  {
   "cell_type": "code",
   "execution_count": 184,
   "metadata": {},
   "outputs": [
    {
     "name": "stdout",
     "output_type": "stream",
     "text": [
      "(1165, 5)\n",
      "(500, 5)\n",
      "(500,)\n"
     ]
    }
   ],
   "source": [
    "x_train,x_test,y_train,y_test=train_test_split(x,y,test_size=0.30,random_state=2)\n",
    "print(x_train.shape)\n",
    "print(x_test.shape)\n",
    "print(y_test.shape)"
   ]
  },
  {
   "cell_type": "markdown",
   "metadata": {},
   "source": [
    "### Feature importance "
   ]
  },
  {
   "cell_type": "code",
   "execution_count": 185,
   "metadata": {},
   "outputs": [
    {
     "name": "stdout",
     "output_type": "stream",
     "text": [
      "                            OLS Regression Results                            \n",
      "==============================================================================\n",
      "Dep. Variable:          S&P Composite   R-squared:                       0.907\n",
      "Model:                            OLS   Adj. R-squared:                  0.907\n",
      "Method:                 Least Squares   F-statistic:                     2832.\n",
      "Date:                Wed, 22 Jan 2020   Prob (F-statistic):               0.00\n",
      "Time:                        23:32:56   Log-Likelihood:                -7691.7\n",
      "No. Observations:                1165   AIC:                         1.539e+04\n",
      "Df Residuals:                    1160   BIC:                         1.542e+04\n",
      "Df Model:                           4                                         \n",
      "Covariance Type:            nonrobust                                         \n",
      "===================================================================================================\n",
      "                                      coef    std err          t      P>|t|      [0.025      0.975]\n",
      "---------------------------------------------------------------------------------------------------\n",
      "const                            1709.5895     37.490     45.601      0.000    1636.034    1783.145\n",
      "Long Interest Rate                -55.1859      2.509    -21.996      0.000     -60.108     -50.264\n",
      "Cyclically Adjusted PE Ratio       10.7337      1.008     10.646      0.000       8.756      12.712\n",
      "Inflation rate                      0.0380      0.148      0.256      0.798      -0.253       0.329\n",
      "% change in price                  17.7666      0.242     73.553      0.000      17.293      18.240\n",
      "change in dividends to earnings  6.776e-15   2.97e-16     22.807      0.000    6.19e-15    7.36e-15\n",
      "==============================================================================\n",
      "Omnibus:                      493.889   Durbin-Watson:                   1.928\n",
      "Prob(Omnibus):                  0.000   Jarque-Bera (JB):             4795.442\n",
      "Skew:                           1.690   Prob(JB):                         0.00\n",
      "Kurtosis:                      12.347   Cond. No.                     5.87e+15\n",
      "==============================================================================\n",
      "\n",
      "Warnings:\n",
      "[1] Standard Errors assume that the covariance matrix of the errors is correctly specified.\n",
      "[2] The smallest eigenvalue is 2.32e-25. This might indicate that there are\n",
      "strong multicollinearity problems or that the design matrix is singular.\n"
     ]
    }
   ],
   "source": [
    "linreg_full_model_withoutlog = sm.OLS(y_train, sm.add_constant(x_train)).fit()\n",
    "\n",
    "# print the summary output\n",
    "print(linreg_full_model_withoutlog.summary())"
   ]
  },
  {
   "cell_type": "code",
   "execution_count": 186,
   "metadata": {},
   "outputs": [
    {
     "data": {
      "text/html": [
       "<div>\n",
       "<style scoped>\n",
       "    .dataframe tbody tr th:only-of-type {\n",
       "        vertical-align: middle;\n",
       "    }\n",
       "\n",
       "    .dataframe tbody tr th {\n",
       "        vertical-align: top;\n",
       "    }\n",
       "\n",
       "    .dataframe thead th {\n",
       "        text-align: right;\n",
       "    }\n",
       "</style>\n",
       "<table border=\"1\" class=\"dataframe\">\n",
       "  <thead>\n",
       "    <tr style=\"text-align: right;\">\n",
       "      <th></th>\n",
       "      <th>P-Value</th>\n",
       "    </tr>\n",
       "  </thead>\n",
       "  <tbody>\n",
       "    <tr>\n",
       "      <th>const</th>\n",
       "      <td>5.964565e-261</td>\n",
       "    </tr>\n",
       "    <tr>\n",
       "      <th>Long Interest Rate</th>\n",
       "      <td>6.628645e-90</td>\n",
       "    </tr>\n",
       "    <tr>\n",
       "      <th>Cyclically Adjusted PE Ratio</th>\n",
       "      <td>2.570344e-25</td>\n",
       "    </tr>\n",
       "    <tr>\n",
       "      <th>Inflation rate</th>\n",
       "      <td>7.981830e-01</td>\n",
       "    </tr>\n",
       "    <tr>\n",
       "      <th>% change in price</th>\n",
       "      <td>0.000000e+00</td>\n",
       "    </tr>\n",
       "    <tr>\n",
       "      <th>change in dividends to earnings</th>\n",
       "      <td>2.024752e-95</td>\n",
       "    </tr>\n",
       "  </tbody>\n",
       "</table>\n",
       "</div>"
      ],
      "text/plain": [
       "                                       P-Value\n",
       "const                            5.964565e-261\n",
       "Long Interest Rate                6.628645e-90\n",
       "Cyclically Adjusted PE Ratio      2.570344e-25\n",
       "Inflation rate                    7.981830e-01\n",
       "% change in price                 0.000000e+00\n",
       "change in dividends to earnings   2.024752e-95"
      ]
     },
     "execution_count": 186,
     "metadata": {},
     "output_type": "execute_result"
    }
   ],
   "source": [
    "# Calculate the p-values for all the variables\n",
    "linreg_full_model_withoutlog_pvalues = pd.DataFrame(linreg_full_model_withoutlog.pvalues, columns = [\"P-Value\"])\n",
    "\n",
    "# print the values\n",
    "linreg_full_model_withoutlog_pvalues"
   ]
  },
  {
   "cell_type": "code",
   "execution_count": 187,
   "metadata": {},
   "outputs": [],
   "source": [
    "insignificant_variables =linreg_full_model_withoutlog_pvalues[linreg_full_model_withoutlog_pvalues['P-Value'] > 0.05]\n",
    "# to get the position of a specified value\n",
    "insigni_var = insignificant_variables.index\n",
    "# convert the list of variables to 'list' type\n",
    "insigni_var = insigni_var.to_list()"
   ]
  },
  {
   "cell_type": "code",
   "execution_count": 188,
   "metadata": {},
   "outputs": [
    {
     "data": {
      "text/plain": [
       "['Inflation rate']"
      ]
     },
     "execution_count": 188,
     "metadata": {},
     "output_type": "execute_result"
    }
   ],
   "source": [
    "insigni_var"
   ]
  },
  {
   "cell_type": "markdown",
   "metadata": {},
   "source": [
    "### Linear regression with important features and log target variable "
   ]
  },
  {
   "cell_type": "code",
   "execution_count": 189,
   "metadata": {},
   "outputs": [
    {
     "data": {
      "text/html": [
       "<div>\n",
       "<style scoped>\n",
       "    .dataframe tbody tr th:only-of-type {\n",
       "        vertical-align: middle;\n",
       "    }\n",
       "\n",
       "    .dataframe tbody tr th {\n",
       "        vertical-align: top;\n",
       "    }\n",
       "\n",
       "    .dataframe thead th {\n",
       "        text-align: right;\n",
       "    }\n",
       "</style>\n",
       "<table border=\"1\" class=\"dataframe\">\n",
       "  <thead>\n",
       "    <tr style=\"text-align: right;\">\n",
       "      <th></th>\n",
       "      <th>Long Interest Rate</th>\n",
       "      <th>Cyclically Adjusted PE Ratio</th>\n",
       "      <th>% change in price</th>\n",
       "      <th>change in dividends to earnings</th>\n",
       "    </tr>\n",
       "  </thead>\n",
       "  <tbody>\n",
       "    <tr>\n",
       "      <th>0</th>\n",
       "      <td>1.70</td>\n",
       "      <td>29.229401</td>\n",
       "      <td>-0.147780</td>\n",
       "      <td>-6.827872e-15</td>\n",
       "    </tr>\n",
       "    <tr>\n",
       "      <th>1</th>\n",
       "      <td>1.63</td>\n",
       "      <td>28.705358</td>\n",
       "      <td>-0.225948</td>\n",
       "      <td>6.716849e-15</td>\n",
       "    </tr>\n",
       "    <tr>\n",
       "      <th>2</th>\n",
       "      <td>1.63</td>\n",
       "      <td>29.986685</td>\n",
       "      <td>-0.220892</td>\n",
       "      <td>-5.051515e-15</td>\n",
       "    </tr>\n",
       "    <tr>\n",
       "      <th>3</th>\n",
       "      <td>2.06</td>\n",
       "      <td>29.283796</td>\n",
       "      <td>-0.387339</td>\n",
       "      <td>3.774758e-15</td>\n",
       "    </tr>\n",
       "    <tr>\n",
       "      <th>4</th>\n",
       "      <td>2.40</td>\n",
       "      <td>29.242031</td>\n",
       "      <td>-0.407173</td>\n",
       "      <td>-6.383782e-15</td>\n",
       "    </tr>\n",
       "  </tbody>\n",
       "</table>\n",
       "</div>"
      ],
      "text/plain": [
       "   Long Interest Rate  Cyclically Adjusted PE Ratio  % change in price  \\\n",
       "0                1.70                     29.229401          -0.147780   \n",
       "1                1.63                     28.705358          -0.225948   \n",
       "2                1.63                     29.986685          -0.220892   \n",
       "3                2.06                     29.283796          -0.387339   \n",
       "4                2.40                     29.242031          -0.407173   \n",
       "\n",
       "   change in dividends to earnings  \n",
       "0                    -6.827872e-15  \n",
       "1                     6.716849e-15  \n",
       "2                    -5.051515e-15  \n",
       "3                     3.774758e-15  \n",
       "4                    -6.383782e-15  "
      ]
     },
     "execution_count": 189,
     "metadata": {},
     "output_type": "execute_result"
    }
   ],
   "source": [
    "x_imp_feature=x.drop(columns='Inflation rate',axis=1)\n",
    "x_imp_feature.head()"
   ]
  },
  {
   "cell_type": "code",
   "execution_count": 190,
   "metadata": {},
   "outputs": [
    {
     "name": "stdout",
     "output_type": "stream",
     "text": [
      "(1165, 4)\n",
      "(500, 4)\n",
      "(500,)\n"
     ]
    }
   ],
   "source": [
    "x_train,x_test,y_train,y_test=train_test_split(x_imp_feature,y_trans,test_size=0.30,random_state=2)\n",
    "print(x_train.shape)\n",
    "print(x_test.shape)\n",
    "print(y_test.shape)"
   ]
  },
  {
   "cell_type": "code",
   "execution_count": 191,
   "metadata": {},
   "outputs": [
    {
     "name": "stdout",
     "output_type": "stream",
     "text": [
      "R^2 score for train: 0.9200086825250191\n",
      "R^2 score for test: 0.9263508358603085\n"
     ]
    },
    {
     "data": {
      "text/html": [
       "<div>\n",
       "<style scoped>\n",
       "    .dataframe tbody tr th:only-of-type {\n",
       "        vertical-align: middle;\n",
       "    }\n",
       "\n",
       "    .dataframe tbody tr th {\n",
       "        vertical-align: top;\n",
       "    }\n",
       "\n",
       "    .dataframe thead th {\n",
       "        text-align: right;\n",
       "    }\n",
       "</style>\n",
       "<table border=\"1\" class=\"dataframe\">\n",
       "  <thead>\n",
       "    <tr style=\"text-align: right;\">\n",
       "      <th></th>\n",
       "      <th>Model</th>\n",
       "      <th>R-Squared</th>\n",
       "      <th>MSE</th>\n",
       "      <th>RMSE</th>\n",
       "    </tr>\n",
       "  </thead>\n",
       "  <tbody>\n",
       "    <tr>\n",
       "      <th>0</th>\n",
       "      <td>Linear regression base model</td>\n",
       "      <td>0.899935</td>\n",
       "      <td>33678.040107</td>\n",
       "      <td>183.515776</td>\n",
       "    </tr>\n",
       "    <tr>\n",
       "      <th>1</th>\n",
       "      <td>Linear regression with log transfomed target</td>\n",
       "      <td>0.926631</td>\n",
       "      <td>0.291066</td>\n",
       "      <td>0.539505</td>\n",
       "    </tr>\n",
       "    <tr>\n",
       "      <th>2</th>\n",
       "      <td>Linear regression with imp-features and log y</td>\n",
       "      <td>0.926351</td>\n",
       "      <td>0.292176</td>\n",
       "      <td>0.540534</td>\n",
       "    </tr>\n",
       "  </tbody>\n",
       "</table>\n",
       "</div>"
      ],
      "text/plain": [
       "                                           Model  R-Squared           MSE  \\\n",
       "0                   Linear regression base model   0.899935  33678.040107   \n",
       "1  Linear regression with log transfomed target    0.926631      0.291066   \n",
       "2  Linear regression with imp-features and log y   0.926351      0.292176   \n",
       "\n",
       "         RMSE  \n",
       "0  183.515776  \n",
       "1    0.539505  \n",
       "2    0.540534  "
      ]
     },
     "execution_count": 191,
     "metadata": {},
     "output_type": "execute_result"
    }
   ],
   "source": [
    "lr = LinearRegression()\n",
    "lr = lr.fit(x_train,y_train)\n",
    "print(f'R^2 score for train: {lr.score(x_train, y_train)}')\n",
    "print(f'R^2 score for test: {lr.score(x_test, y_test)}')\n",
    "\n",
    "y_pred = lr.predict(x_test)\n",
    "mse = mean_squared_error(y_test,y_pred)\n",
    "\n",
    "rmse = np.sqrt(mse)\n",
    "\n",
    "rsquared = r2_score(y_test,y_pred)\n",
    "\n",
    "metrics = pd.Series({'Model': \"Linear regression with imp-features and log y\",'R-Squared': rsquared,'MSE':mse,'RMSE':rmse,})\n",
    "\n",
    "# appending our result table\n",
    "result_tabulation = result_tabulation.append(metrics, ignore_index = True)\n",
    "\n",
    "# view the result table\n",
    "result_tabulation\n"
   ]
  },
  {
   "cell_type": "markdown",
   "metadata": {},
   "source": [
    "### Linear regression with RFE"
   ]
  },
  {
   "cell_type": "code",
   "execution_count": 192,
   "metadata": {},
   "outputs": [],
   "source": [
    "from sklearn.feature_selection import RFE\n",
    "from sklearn.linear_model import RidgeCV, LassoCV, Ridge, Lasso"
   ]
  },
  {
   "cell_type": "code",
   "execution_count": 193,
   "metadata": {},
   "outputs": [
    {
     "name": "stdout",
     "output_type": "stream",
     "text": [
      "Optimum number of features: 5\n",
      "Score with 5 features: 0.926631\n"
     ]
    }
   ],
   "source": [
    "#no of features\n",
    "nof_list=np.arange(1,6)            \n",
    "high_score=0\n",
    "#Variable to store the optimum features\n",
    "nof=0           \n",
    "score_list =[]\n",
    "for n in range(len(nof_list)):\n",
    "    X_train, X_test, y_train, y_test = train_test_split(x,y_trans, test_size = 0.3, random_state = 2)\n",
    "    model = LinearRegression()\n",
    "    rfe = RFE(model,nof_list[n])\n",
    "    X_train_rfe = rfe.fit_transform(X_train,y_train)\n",
    "    X_test_rfe = rfe.transform(X_test)\n",
    "    model.fit(X_train_rfe,y_train)\n",
    "    score = model.score(X_test_rfe,y_test)\n",
    "    score_list.append(score)\n",
    "    if(score>high_score):\n",
    "        high_score = score\n",
    "        nof = nof_list[n]\n",
    "print(\"Optimum number of features: %d\" %nof)\n",
    "print(\"Score with %d features: %f\" % (nof, high_score))"
   ]
  },
  {
   "cell_type": "markdown",
   "metadata": {},
   "source": [
    "### Ridge regression "
   ]
  },
  {
   "cell_type": "code",
   "execution_count": 197,
   "metadata": {},
   "outputs": [
    {
     "data": {
      "text/plain": [
       "Ridge(alpha=0.01, copy_X=True, fit_intercept=True, max_iter=None,\n",
       "      normalize=False, random_state=None, solver='auto', tol=0.001)"
      ]
     },
     "execution_count": 197,
     "metadata": {},
     "output_type": "execute_result"
    }
   ],
   "source": [
    "x_train, x_test, y_train, y_test = train_test_split(x,y_trans, test_size = 0.3, random_state = 2)\n",
    "lr = LinearRegression()\n",
    "lr.fit(x_train, y_train)\n",
    "rr = Ridge(alpha=0.01) \n",
    "rr.fit(x_train, y_train)"
   ]
  },
  {
   "cell_type": "code",
   "execution_count": 198,
   "metadata": {},
   "outputs": [
    {
     "name": "stdout",
     "output_type": "stream",
     "text": [
      "R^2 score for train: 0.9201099212999614\n",
      "R^2 score for test: 0.9267428505763287\n"
     ]
    },
    {
     "data": {
      "text/html": [
       "<div>\n",
       "<style scoped>\n",
       "    .dataframe tbody tr th:only-of-type {\n",
       "        vertical-align: middle;\n",
       "    }\n",
       "\n",
       "    .dataframe tbody tr th {\n",
       "        vertical-align: top;\n",
       "    }\n",
       "\n",
       "    .dataframe thead th {\n",
       "        text-align: right;\n",
       "    }\n",
       "</style>\n",
       "<table border=\"1\" class=\"dataframe\">\n",
       "  <thead>\n",
       "    <tr style=\"text-align: right;\">\n",
       "      <th></th>\n",
       "      <th>Model</th>\n",
       "      <th>R-Squared</th>\n",
       "      <th>MSE</th>\n",
       "      <th>RMSE</th>\n",
       "    </tr>\n",
       "  </thead>\n",
       "  <tbody>\n",
       "    <tr>\n",
       "      <th>0</th>\n",
       "      <td>Linear regression base model</td>\n",
       "      <td>0.899935</td>\n",
       "      <td>33678.040107</td>\n",
       "      <td>183.515776</td>\n",
       "    </tr>\n",
       "    <tr>\n",
       "      <th>1</th>\n",
       "      <td>Linear regression with log transfomed target</td>\n",
       "      <td>0.926631</td>\n",
       "      <td>0.291066</td>\n",
       "      <td>0.539505</td>\n",
       "    </tr>\n",
       "    <tr>\n",
       "      <th>2</th>\n",
       "      <td>Linear regression with imp-features and log y</td>\n",
       "      <td>0.926351</td>\n",
       "      <td>0.292176</td>\n",
       "      <td>0.540534</td>\n",
       "    </tr>\n",
       "    <tr>\n",
       "      <th>3</th>\n",
       "      <td>ridge regression</td>\n",
       "      <td>0.926743</td>\n",
       "      <td>0.290621</td>\n",
       "      <td>0.539093</td>\n",
       "    </tr>\n",
       "  </tbody>\n",
       "</table>\n",
       "</div>"
      ],
      "text/plain": [
       "                                           Model  R-Squared           MSE  \\\n",
       "0                   Linear regression base model   0.899935  33678.040107   \n",
       "1  Linear regression with log transfomed target    0.926631      0.291066   \n",
       "2  Linear regression with imp-features and log y   0.926351      0.292176   \n",
       "3                               ridge regression   0.926743      0.290621   \n",
       "\n",
       "         RMSE  \n",
       "0  183.515776  \n",
       "1    0.539505  \n",
       "2    0.540534  \n",
       "3    0.539093  "
      ]
     },
     "execution_count": 198,
     "metadata": {},
     "output_type": "execute_result"
    }
   ],
   "source": [
    "print(f'R^2 score for train: {rr.score(x_train, y_train)}')\n",
    "print(f'R^2 score for test: {rr.score(x_test, y_test)}')\n",
    "\n",
    "y_pred = rr.predict(x_test)\n",
    "mse = mean_squared_error(y_test,y_pred)\n",
    "\n",
    "rmse = np.sqrt(mse)\n",
    "\n",
    "rsquared = r2_score(y_test,y_pred)\n",
    "\n",
    "metrics = pd.Series({'Model': \"ridge regression\",'R-Squared': rsquared,'MSE':mse,'RMSE':rmse,})\n",
    "\n",
    "# appending our result table\n",
    "result_tabulation = result_tabulation.append(metrics, ignore_index = True)\n",
    "\n",
    "# view the result table\n",
    "result_tabulation"
   ]
  },
  {
   "cell_type": "markdown",
   "metadata": {},
   "source": [
    "### Ridge with Grid search "
   ]
  },
  {
   "cell_type": "code",
   "execution_count": 201,
   "metadata": {},
   "outputs": [
    {
     "data": {
      "text/plain": [
       "GridSearchCV(cv=10, error_score=nan,\n",
       "             estimator=Ridge(alpha=1.0, copy_X=True, fit_intercept=True,\n",
       "                             max_iter=None, normalize=False, random_state=None,\n",
       "                             solver='auto', tol=0.001),\n",
       "             iid='deprecated', n_jobs=None,\n",
       "             param_grid={'alpha': array([  1.,   2.,   3.,   4.,   5.,   6.,   7.,   8.,   9.,  10.,  11.,\n",
       "        12.,  13.,  14.,  15.,  16.,  17.,  18.,  19.,  20.,  21.,  22.,\n",
       "        23.,  24.,  25.,  26.,  27.,  28.,  29.,  30.,  31.,  32.,  33.,\n",
       "        34.,  35....,  41.,  42.,  43.,  44.,\n",
       "        45.,  46.,  47.,  48.,  49.,  50.,  51.,  52.,  53.,  54.,  55.,\n",
       "        56.,  57.,  58.,  59.,  60.,  61.,  62.,  63.,  64.,  65.,  66.,\n",
       "        67.,  68.,  69.,  70.,  71.,  72.,  73.,  74.,  75.,  76.,  77.,\n",
       "        78.,  79.,  80.,  81.,  82.,  83.,  84.,  85.,  86.,  87.,  88.,\n",
       "        89.,  90.,  91.,  92.,  93.,  94.,  95.,  96.,  97.,  98.,  99.,\n",
       "       100.])},\n",
       "             pre_dispatch='2*n_jobs', refit=True, return_train_score=False,\n",
       "             scoring='neg_mean_absolute_error', verbose=0)"
      ]
     },
     "execution_count": 201,
     "metadata": {},
     "output_type": "execute_result"
    }
   ],
   "source": [
    "from sklearn.model_selection import GridSearchCV\n",
    "\n",
    "lambdas=np.linspace(1,100,100)\n",
    "params={'alpha':lambdas}\n",
    "rr_grid =Ridge(fit_intercept=True)\n",
    "grid_search=GridSearchCV(rr_grid,param_grid=params,cv=10,scoring='neg_mean_absolute_error')\n",
    "grid_search.fit(x_train,y_train)"
   ]
  },
  {
   "cell_type": "code",
   "execution_count": 202,
   "metadata": {},
   "outputs": [
    {
     "data": {
      "text/plain": [
       "Ridge(alpha=100.0, copy_X=True, fit_intercept=True, max_iter=None,\n",
       "      normalize=False, random_state=None, solver='auto', tol=0.001)"
      ]
     },
     "execution_count": 202,
     "metadata": {},
     "output_type": "execute_result"
    }
   ],
   "source": [
    "grid_search.best_estimator_"
   ]
  },
  {
   "cell_type": "code",
   "execution_count": 203,
   "metadata": {},
   "outputs": [
    {
     "name": "stdout",
     "output_type": "stream",
     "text": [
      "R^2 score for train: 0.9201099212999614\n",
      "R^2 score for test: 0.9267428505763287\n"
     ]
    },
    {
     "data": {
      "text/html": [
       "<div>\n",
       "<style scoped>\n",
       "    .dataframe tbody tr th:only-of-type {\n",
       "        vertical-align: middle;\n",
       "    }\n",
       "\n",
       "    .dataframe tbody tr th {\n",
       "        vertical-align: top;\n",
       "    }\n",
       "\n",
       "    .dataframe thead th {\n",
       "        text-align: right;\n",
       "    }\n",
       "</style>\n",
       "<table border=\"1\" class=\"dataframe\">\n",
       "  <thead>\n",
       "    <tr style=\"text-align: right;\">\n",
       "      <th></th>\n",
       "      <th>Model</th>\n",
       "      <th>R-Squared</th>\n",
       "      <th>MSE</th>\n",
       "      <th>RMSE</th>\n",
       "    </tr>\n",
       "  </thead>\n",
       "  <tbody>\n",
       "    <tr>\n",
       "      <th>0</th>\n",
       "      <td>Linear regression base model</td>\n",
       "      <td>0.899935</td>\n",
       "      <td>33678.040107</td>\n",
       "      <td>183.515776</td>\n",
       "    </tr>\n",
       "    <tr>\n",
       "      <th>1</th>\n",
       "      <td>Linear regression with log transfomed target</td>\n",
       "      <td>0.926631</td>\n",
       "      <td>0.291066</td>\n",
       "      <td>0.539505</td>\n",
       "    </tr>\n",
       "    <tr>\n",
       "      <th>2</th>\n",
       "      <td>Linear regression with imp-features and log y</td>\n",
       "      <td>0.926351</td>\n",
       "      <td>0.292176</td>\n",
       "      <td>0.540534</td>\n",
       "    </tr>\n",
       "    <tr>\n",
       "      <th>3</th>\n",
       "      <td>ridge regression</td>\n",
       "      <td>0.926743</td>\n",
       "      <td>0.290621</td>\n",
       "      <td>0.539093</td>\n",
       "    </tr>\n",
       "    <tr>\n",
       "      <th>4</th>\n",
       "      <td>ridge regression with gridsearch</td>\n",
       "      <td>0.926787</td>\n",
       "      <td>0.290448</td>\n",
       "      <td>0.538932</td>\n",
       "    </tr>\n",
       "  </tbody>\n",
       "</table>\n",
       "</div>"
      ],
      "text/plain": [
       "                                           Model  R-Squared           MSE  \\\n",
       "0                   Linear regression base model   0.899935  33678.040107   \n",
       "1  Linear regression with log transfomed target    0.926631      0.291066   \n",
       "2  Linear regression with imp-features and log y   0.926351      0.292176   \n",
       "3                               ridge regression   0.926743      0.290621   \n",
       "4              ridge regression with gridsearch    0.926787      0.290448   \n",
       "\n",
       "         RMSE  \n",
       "0  183.515776  \n",
       "1    0.539505  \n",
       "2    0.540534  \n",
       "3    0.539093  \n",
       "4    0.538932  "
      ]
     },
     "execution_count": 203,
     "metadata": {},
     "output_type": "execute_result"
    }
   ],
   "source": [
    "y_pred=grid_search.predict(x_test)\n",
    "\n",
    "print(f'R^2 score for train: {rr.score(x_train, y_train)}')\n",
    "print(f'R^2 score for test: {rr.score(x_test, y_test)}')\n",
    "\n",
    "mse = mean_squared_error(y_test,y_pred)\n",
    "\n",
    "rmse = np.sqrt(mse)\n",
    "\n",
    "rsquared = r2_score(y_test,y_pred)\n",
    "\n",
    "metrics = pd.Series({'Model': \"ridge regression with gridsearch \",'R-Squared': rsquared,'MSE':mse,'RMSE':rmse,})\n",
    "\n",
    "# appending our result table\n",
    "result_tabulation = result_tabulation.append(metrics, ignore_index = True)\n",
    "\n",
    "# view the result table\n",
    "result_tabulation"
   ]
  },
  {
   "cell_type": "markdown",
   "metadata": {},
   "source": [
    "### Lasso regression with grid search "
   ]
  },
  {
   "cell_type": "code",
   "execution_count": 204,
   "metadata": {},
   "outputs": [
    {
     "data": {
      "text/plain": [
       "GridSearchCV(cv=10, error_score=nan,\n",
       "             estimator=Lasso(alpha=1.0, copy_X=True, fit_intercept=True,\n",
       "                             max_iter=1000, normalize=False, positive=False,\n",
       "                             precompute=False, random_state=None,\n",
       "                             selection='cyclic', tol=0.0001, warm_start=False),\n",
       "             iid='deprecated', n_jobs=None,\n",
       "             param_grid={'alpha': array([  1.,   2.,   3.,   4.,   5.,   6.,   7.,   8.,   9.,  10.,  11.,\n",
       "        12.,  13.,  14.,  15.,  16.,  17.,  18.,  19.,  20.,  21....\n",
       "        34.,  35.,  36.,  37.,  38.,  39.,  40.,  41.,  42.,  43.,  44.,\n",
       "        45.,  46.,  47.,  48.,  49.,  50.,  51.,  52.,  53.,  54.,  55.,\n",
       "        56.,  57.,  58.,  59.,  60.,  61.,  62.,  63.,  64.,  65.,  66.,\n",
       "        67.,  68.,  69.,  70.,  71.,  72.,  73.,  74.,  75.,  76.,  77.,\n",
       "        78.,  79.,  80.,  81.,  82.,  83.,  84.,  85.,  86.,  87.,  88.,\n",
       "        89.,  90.,  91.,  92.,  93.,  94.,  95.,  96.,  97.,  98.,  99.,\n",
       "       100.])},\n",
       "             pre_dispatch='2*n_jobs', refit=True, return_train_score=False,\n",
       "             scoring='neg_mean_absolute_error', verbose=0)"
      ]
     },
     "execution_count": 204,
     "metadata": {},
     "output_type": "execute_result"
    }
   ],
   "source": [
    "lasso_grid =Lasso(fit_intercept=True)\n",
    "grid_search=GridSearchCV(lasso_grid,param_grid=params,cv=10,scoring='neg_mean_absolute_error')\n",
    "grid_search.fit(x_train,y_train)"
   ]
  },
  {
   "cell_type": "code",
   "execution_count": 205,
   "metadata": {},
   "outputs": [
    {
     "data": {
      "text/plain": [
       "Lasso(alpha=1.0, copy_X=True, fit_intercept=True, max_iter=1000,\n",
       "      normalize=False, positive=False, precompute=False, random_state=None,\n",
       "      selection='cyclic', tol=0.0001, warm_start=False)"
      ]
     },
     "execution_count": 205,
     "metadata": {},
     "output_type": "execute_result"
    }
   ],
   "source": [
    "grid_search.best_estimator_"
   ]
  },
  {
   "cell_type": "code",
   "execution_count": 206,
   "metadata": {},
   "outputs": [
    {
     "name": "stdout",
     "output_type": "stream",
     "text": [
      "R^2 score for train: 0.9201099212999614\n",
      "R^2 score for test: 0.9267428505763287\n"
     ]
    },
    {
     "data": {
      "text/html": [
       "<div>\n",
       "<style scoped>\n",
       "    .dataframe tbody tr th:only-of-type {\n",
       "        vertical-align: middle;\n",
       "    }\n",
       "\n",
       "    .dataframe tbody tr th {\n",
       "        vertical-align: top;\n",
       "    }\n",
       "\n",
       "    .dataframe thead th {\n",
       "        text-align: right;\n",
       "    }\n",
       "</style>\n",
       "<table border=\"1\" class=\"dataframe\">\n",
       "  <thead>\n",
       "    <tr style=\"text-align: right;\">\n",
       "      <th></th>\n",
       "      <th>Model</th>\n",
       "      <th>R-Squared</th>\n",
       "      <th>MSE</th>\n",
       "      <th>RMSE</th>\n",
       "    </tr>\n",
       "  </thead>\n",
       "  <tbody>\n",
       "    <tr>\n",
       "      <th>0</th>\n",
       "      <td>Linear regression base model</td>\n",
       "      <td>0.899935</td>\n",
       "      <td>33678.040107</td>\n",
       "      <td>183.515776</td>\n",
       "    </tr>\n",
       "    <tr>\n",
       "      <th>1</th>\n",
       "      <td>Linear regression with log transfomed target</td>\n",
       "      <td>0.926631</td>\n",
       "      <td>0.291066</td>\n",
       "      <td>0.539505</td>\n",
       "    </tr>\n",
       "    <tr>\n",
       "      <th>2</th>\n",
       "      <td>Linear regression with imp-features and log y</td>\n",
       "      <td>0.926351</td>\n",
       "      <td>0.292176</td>\n",
       "      <td>0.540534</td>\n",
       "    </tr>\n",
       "    <tr>\n",
       "      <th>3</th>\n",
       "      <td>ridge regression</td>\n",
       "      <td>0.926743</td>\n",
       "      <td>0.290621</td>\n",
       "      <td>0.539093</td>\n",
       "    </tr>\n",
       "    <tr>\n",
       "      <th>4</th>\n",
       "      <td>ridge regression with gridsearch</td>\n",
       "      <td>0.926787</td>\n",
       "      <td>0.290448</td>\n",
       "      <td>0.538932</td>\n",
       "    </tr>\n",
       "    <tr>\n",
       "      <th>5</th>\n",
       "      <td>Lasso regression with gridsearch</td>\n",
       "      <td>0.894626</td>\n",
       "      <td>0.418034</td>\n",
       "      <td>0.646555</td>\n",
       "    </tr>\n",
       "  </tbody>\n",
       "</table>\n",
       "</div>"
      ],
      "text/plain": [
       "                                           Model  R-Squared           MSE  \\\n",
       "0                   Linear regression base model   0.899935  33678.040107   \n",
       "1  Linear regression with log transfomed target    0.926631      0.291066   \n",
       "2  Linear regression with imp-features and log y   0.926351      0.292176   \n",
       "3                               ridge regression   0.926743      0.290621   \n",
       "4              ridge regression with gridsearch    0.926787      0.290448   \n",
       "5              Lasso regression with gridsearch    0.894626      0.418034   \n",
       "\n",
       "         RMSE  \n",
       "0  183.515776  \n",
       "1    0.539505  \n",
       "2    0.540534  \n",
       "3    0.539093  \n",
       "4    0.538932  \n",
       "5    0.646555  "
      ]
     },
     "execution_count": 206,
     "metadata": {},
     "output_type": "execute_result"
    }
   ],
   "source": [
    "y_pred=grid_search.predict(x_test)\n",
    "\n",
    "print(f'R^2 score for train: {rr.score(x_train, y_train)}')\n",
    "print(f'R^2 score for test: {rr.score(x_test, y_test)}')\n",
    "\n",
    "mse = mean_squared_error(y_test,y_pred)\n",
    "\n",
    "rmse = np.sqrt(mse)\n",
    "\n",
    "rsquared = r2_score(y_test,y_pred)\n",
    "\n",
    "metrics = pd.Series({'Model': \"Lasso regression with gridsearch \",'R-Squared': rsquared,'MSE':mse,'RMSE':rmse,})\n",
    "\n",
    "# appending our result table\n",
    "result_tabulation = result_tabulation.append(metrics, ignore_index = True)\n",
    "\n",
    "# view the result table\n",
    "result_tabulation"
   ]
  },
  {
   "cell_type": "markdown",
   "metadata": {},
   "source": [
    "### desicion tree regressor "
   ]
  },
  {
   "cell_type": "code",
   "execution_count": 208,
   "metadata": {},
   "outputs": [
    {
     "data": {
      "text/plain": [
       "DecisionTreeRegressor(ccp_alpha=0.0, criterion='mse', max_depth=2,\n",
       "                      max_features=None, max_leaf_nodes=None,\n",
       "                      min_impurity_decrease=0.0, min_impurity_split=None,\n",
       "                      min_samples_leaf=1, min_samples_split=2,\n",
       "                      min_weight_fraction_leaf=0.0, presort='deprecated',\n",
       "                      random_state=None, splitter='best')"
      ]
     },
     "execution_count": 208,
     "metadata": {},
     "output_type": "execute_result"
    }
   ],
   "source": [
    "from sklearn.tree import DecisionTreeRegressor\n",
    "\n",
    "regressor = DecisionTreeRegressor(max_depth=2)\n",
    "regressor.fit(x_train,y_train)"
   ]
  },
  {
   "cell_type": "code",
   "execution_count": 209,
   "metadata": {},
   "outputs": [
    {
     "name": "stdout",
     "output_type": "stream",
     "text": [
      "R^2 score for train: 0.9454679144594439\n",
      "R^2 score for test: 0.94825640391578\n"
     ]
    },
    {
     "data": {
      "text/html": [
       "<div>\n",
       "<style scoped>\n",
       "    .dataframe tbody tr th:only-of-type {\n",
       "        vertical-align: middle;\n",
       "    }\n",
       "\n",
       "    .dataframe tbody tr th {\n",
       "        vertical-align: top;\n",
       "    }\n",
       "\n",
       "    .dataframe thead th {\n",
       "        text-align: right;\n",
       "    }\n",
       "</style>\n",
       "<table border=\"1\" class=\"dataframe\">\n",
       "  <thead>\n",
       "    <tr style=\"text-align: right;\">\n",
       "      <th></th>\n",
       "      <th>Model</th>\n",
       "      <th>R-Squared</th>\n",
       "      <th>MSE</th>\n",
       "      <th>RMSE</th>\n",
       "    </tr>\n",
       "  </thead>\n",
       "  <tbody>\n",
       "    <tr>\n",
       "      <th>0</th>\n",
       "      <td>Linear regression base model</td>\n",
       "      <td>0.899935</td>\n",
       "      <td>33678.040107</td>\n",
       "      <td>183.515776</td>\n",
       "    </tr>\n",
       "    <tr>\n",
       "      <th>1</th>\n",
       "      <td>Linear regression with log transfomed target</td>\n",
       "      <td>0.926631</td>\n",
       "      <td>0.291066</td>\n",
       "      <td>0.539505</td>\n",
       "    </tr>\n",
       "    <tr>\n",
       "      <th>2</th>\n",
       "      <td>Linear regression with imp-features and log y</td>\n",
       "      <td>0.926351</td>\n",
       "      <td>0.292176</td>\n",
       "      <td>0.540534</td>\n",
       "    </tr>\n",
       "    <tr>\n",
       "      <th>3</th>\n",
       "      <td>ridge regression</td>\n",
       "      <td>0.926743</td>\n",
       "      <td>0.290621</td>\n",
       "      <td>0.539093</td>\n",
       "    </tr>\n",
       "    <tr>\n",
       "      <th>4</th>\n",
       "      <td>ridge regression with gridsearch</td>\n",
       "      <td>0.926787</td>\n",
       "      <td>0.290448</td>\n",
       "      <td>0.538932</td>\n",
       "    </tr>\n",
       "    <tr>\n",
       "      <th>5</th>\n",
       "      <td>Lasso regression with gridsearch</td>\n",
       "      <td>0.894626</td>\n",
       "      <td>0.418034</td>\n",
       "      <td>0.646555</td>\n",
       "    </tr>\n",
       "    <tr>\n",
       "      <th>6</th>\n",
       "      <td>Desicion tree regressor</td>\n",
       "      <td>0.948256</td>\n",
       "      <td>0.205274</td>\n",
       "      <td>0.453072</td>\n",
       "    </tr>\n",
       "  </tbody>\n",
       "</table>\n",
       "</div>"
      ],
      "text/plain": [
       "                                           Model  R-Squared           MSE  \\\n",
       "0                   Linear regression base model   0.899935  33678.040107   \n",
       "1  Linear regression with log transfomed target    0.926631      0.291066   \n",
       "2  Linear regression with imp-features and log y   0.926351      0.292176   \n",
       "3                               ridge regression   0.926743      0.290621   \n",
       "4              ridge regression with gridsearch    0.926787      0.290448   \n",
       "5              Lasso regression with gridsearch    0.894626      0.418034   \n",
       "6                        Desicion tree regressor   0.948256      0.205274   \n",
       "\n",
       "         RMSE  \n",
       "0  183.515776  \n",
       "1    0.539505  \n",
       "2    0.540534  \n",
       "3    0.539093  \n",
       "4    0.538932  \n",
       "5    0.646555  \n",
       "6    0.453072  "
      ]
     },
     "execution_count": 209,
     "metadata": {},
     "output_type": "execute_result"
    }
   ],
   "source": [
    "y_pred=regressor.predict(x_test)\n",
    "\n",
    "print(f'R^2 score for train: {regressor.score(x_train, y_train)}')\n",
    "print(f'R^2 score for test: {regressor.score(x_test, y_test)}')\n",
    "\n",
    "mse = mean_squared_error(y_test,y_pred)\n",
    "\n",
    "rmse = np.sqrt(mse)\n",
    "\n",
    "rsquared = r2_score(y_test,y_pred)\n",
    "\n",
    "metrics = pd.Series({'Model': \"Desicion tree regressor\",'R-Squared': rsquared,'MSE':mse,'RMSE':rmse,})\n",
    "\n",
    "# appending our result table\n",
    "result_tabulation = result_tabulation.append(metrics, ignore_index = True)\n",
    "\n",
    "# view the result table\n",
    "result_tabulation"
   ]
  },
  {
   "cell_type": "markdown",
   "metadata": {},
   "source": [
    "### Random forest regressor "
   ]
  },
  {
   "cell_type": "code",
   "execution_count": 211,
   "metadata": {},
   "outputs": [
    {
     "data": {
      "text/plain": [
       "RandomForestRegressor(bootstrap=True, ccp_alpha=0.0, criterion='mse',\n",
       "                      max_depth=2, max_features='auto', max_leaf_nodes=None,\n",
       "                      max_samples=None, min_impurity_decrease=0.0,\n",
       "                      min_impurity_split=None, min_samples_leaf=1,\n",
       "                      min_samples_split=2, min_weight_fraction_leaf=0.0,\n",
       "                      n_estimators=100, n_jobs=None, oob_score=False,\n",
       "                      random_state=None, verbose=0, warm_start=False)"
      ]
     },
     "execution_count": 211,
     "metadata": {},
     "output_type": "execute_result"
    }
   ],
   "source": [
    "from sklearn.ensemble import RandomForestRegressor\n",
    "\n",
    "regressor = RandomForestRegressor(max_depth=2)\n",
    "regressor.fit(x_train,y_train)"
   ]
  },
  {
   "cell_type": "code",
   "execution_count": 215,
   "metadata": {},
   "outputs": [
    {
     "name": "stdout",
     "output_type": "stream",
     "text": [
      "R^2 score for train: 0.9536187411076179\n",
      "R^2 score for test: 0.9561373938384067\n"
     ]
    },
    {
     "data": {
      "text/html": [
       "<div>\n",
       "<style scoped>\n",
       "    .dataframe tbody tr th:only-of-type {\n",
       "        vertical-align: middle;\n",
       "    }\n",
       "\n",
       "    .dataframe tbody tr th {\n",
       "        vertical-align: top;\n",
       "    }\n",
       "\n",
       "    .dataframe thead th {\n",
       "        text-align: right;\n",
       "    }\n",
       "</style>\n",
       "<table border=\"1\" class=\"dataframe\">\n",
       "  <thead>\n",
       "    <tr style=\"text-align: right;\">\n",
       "      <th></th>\n",
       "      <th>Model</th>\n",
       "      <th>R-Squared</th>\n",
       "      <th>MSE</th>\n",
       "      <th>RMSE</th>\n",
       "    </tr>\n",
       "  </thead>\n",
       "  <tbody>\n",
       "    <tr>\n",
       "      <th>0</th>\n",
       "      <td>Linear regression base model</td>\n",
       "      <td>0.899935</td>\n",
       "      <td>33678.040107</td>\n",
       "      <td>183.515776</td>\n",
       "    </tr>\n",
       "    <tr>\n",
       "      <th>1</th>\n",
       "      <td>Linear regression with log transfomed target</td>\n",
       "      <td>0.926631</td>\n",
       "      <td>0.291066</td>\n",
       "      <td>0.539505</td>\n",
       "    </tr>\n",
       "    <tr>\n",
       "      <th>2</th>\n",
       "      <td>Linear regression with imp-features and log y</td>\n",
       "      <td>0.926351</td>\n",
       "      <td>0.292176</td>\n",
       "      <td>0.540534</td>\n",
       "    </tr>\n",
       "    <tr>\n",
       "      <th>3</th>\n",
       "      <td>ridge regression</td>\n",
       "      <td>0.926743</td>\n",
       "      <td>0.290621</td>\n",
       "      <td>0.539093</td>\n",
       "    </tr>\n",
       "    <tr>\n",
       "      <th>4</th>\n",
       "      <td>ridge regression with gridsearch</td>\n",
       "      <td>0.926787</td>\n",
       "      <td>0.290448</td>\n",
       "      <td>0.538932</td>\n",
       "    </tr>\n",
       "    <tr>\n",
       "      <th>5</th>\n",
       "      <td>Lasso regression with gridsearch</td>\n",
       "      <td>0.894626</td>\n",
       "      <td>0.418034</td>\n",
       "      <td>0.646555</td>\n",
       "    </tr>\n",
       "    <tr>\n",
       "      <th>6</th>\n",
       "      <td>Desicion tree regressor</td>\n",
       "      <td>0.948256</td>\n",
       "      <td>0.205274</td>\n",
       "      <td>0.453072</td>\n",
       "    </tr>\n",
       "    <tr>\n",
       "      <th>7</th>\n",
       "      <td>Random forest regressor</td>\n",
       "      <td>0.956137</td>\n",
       "      <td>0.174009</td>\n",
       "      <td>0.417144</td>\n",
       "    </tr>\n",
       "  </tbody>\n",
       "</table>\n",
       "</div>"
      ],
      "text/plain": [
       "                                           Model  R-Squared           MSE  \\\n",
       "0                   Linear regression base model   0.899935  33678.040107   \n",
       "1  Linear regression with log transfomed target    0.926631      0.291066   \n",
       "2  Linear regression with imp-features and log y   0.926351      0.292176   \n",
       "3                               ridge regression   0.926743      0.290621   \n",
       "4              ridge regression with gridsearch    0.926787      0.290448   \n",
       "5              Lasso regression with gridsearch    0.894626      0.418034   \n",
       "6                        Desicion tree regressor   0.948256      0.205274   \n",
       "7                        Random forest regressor   0.956137      0.174009   \n",
       "\n",
       "         RMSE  \n",
       "0  183.515776  \n",
       "1    0.539505  \n",
       "2    0.540534  \n",
       "3    0.539093  \n",
       "4    0.538932  \n",
       "5    0.646555  \n",
       "6    0.453072  \n",
       "7    0.417144  "
      ]
     },
     "execution_count": 215,
     "metadata": {},
     "output_type": "execute_result"
    }
   ],
   "source": [
    "y_pred=regressor.predict(x_test)\n",
    "\n",
    "print(f'R^2 score for train: {regressor.score(x_train, y_train)}')\n",
    "print(f'R^2 score for test: {regressor.score(x_test, y_test)}')\n",
    "\n",
    "mse = mean_squared_error(y_test,y_pred)\n",
    "\n",
    "rmse = np.sqrt(mse)\n",
    "\n",
    "rsquared = r2_score(y_test,y_pred)\n",
    "\n",
    "metrics = pd.Series({'Model': \"Random forest regressor\",'R-Squared': rsquared,'MSE':mse,'RMSE':rmse,})\n",
    "\n",
    "# appending our result table\n",
    "result_tabulation = result_tabulation.append(metrics, ignore_index = True)\n",
    "\n",
    "# view the result table\n",
    "result_tabulation"
   ]
  },
  {
   "cell_type": "code",
   "execution_count": null,
   "metadata": {},
   "outputs": [],
   "source": []
  },
  {
   "cell_type": "code",
   "execution_count": null,
   "metadata": {},
   "outputs": [],
   "source": []
  }
 ],
 "metadata": {
  "kernelspec": {
   "display_name": "Python 3",
   "language": "python",
   "name": "python3"
  },
  "language_info": {
   "codemirror_mode": {
    "name": "ipython",
    "version": 3
   },
   "file_extension": ".py",
   "mimetype": "text/x-python",
   "name": "python",
   "nbconvert_exporter": "python",
   "pygments_lexer": "ipython3",
   "version": "3.7.3"
  }
 },
 "nbformat": 4,
 "nbformat_minor": 2
}
